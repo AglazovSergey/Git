{
 "cells": [
  {
   "cell_type": "code",
   "execution_count": 2,
   "metadata": {
    "_cell_guid": "b1076dfc-b9ad-4769-8c92-a6c4dae69d19",
    "_uuid": "8f2839f25d086af736a60e9eeb907d3b93b6e0e5"
   },
   "outputs": [],
   "source": [
    "import numpy as np #библиотека для работы с числовыми данными\n",
    "import pandas as pd #библиотека для работы с табличными данными\n",
    "import seaborn as sns #библиотека для визуализации данных\n",
    "import matplotlib.pyplot as plt #библиотека для вывода графиков\n",
    "import os #библиотека для работы с операционной системой\n",
    "from collections import Counter #специализированный контейнер типов данных"
   ]
  },
  {
   "cell_type": "code",
   "execution_count": 89,
   "metadata": {},
   "outputs": [
    {
     "data": {
      "text/html": [
       "<div>\n",
       "<style scoped>\n",
       "    .dataframe tbody tr th:only-of-type {\n",
       "        vertical-align: middle;\n",
       "    }\n",
       "\n",
       "    .dataframe tbody tr th {\n",
       "        vertical-align: top;\n",
       "    }\n",
       "\n",
       "    .dataframe thead th {\n",
       "        text-align: right;\n",
       "    }\n",
       "</style>\n",
       "<table border=\"1\" class=\"dataframe\">\n",
       "  <thead>\n",
       "    <tr style=\"text-align: right;\">\n",
       "      <th></th>\n",
       "      <th>imdb_id</th>\n",
       "      <th>popularity</th>\n",
       "      <th>budget</th>\n",
       "      <th>revenue</th>\n",
       "      <th>original_title</th>\n",
       "      <th>cast</th>\n",
       "      <th>director</th>\n",
       "      <th>tagline</th>\n",
       "      <th>overview</th>\n",
       "      <th>runtime</th>\n",
       "      <th>genres</th>\n",
       "      <th>production_companies</th>\n",
       "      <th>release_date</th>\n",
       "      <th>vote_count</th>\n",
       "      <th>vote_average</th>\n",
       "      <th>release_year</th>\n",
       "    </tr>\n",
       "  </thead>\n",
       "  <tbody>\n",
       "    <tr>\n",
       "      <th>0</th>\n",
       "      <td>tt0369610</td>\n",
       "      <td>32.985763</td>\n",
       "      <td>150000000</td>\n",
       "      <td>1513528810</td>\n",
       "      <td>Jurassic World</td>\n",
       "      <td>Chris Pratt|Bryce Dallas Howard|Irrfan Khan|Vi...</td>\n",
       "      <td>Colin Trevorrow</td>\n",
       "      <td>The park is open.</td>\n",
       "      <td>Twenty-two years after the events of Jurassic ...</td>\n",
       "      <td>124</td>\n",
       "      <td>Action|Adventure|Science Fiction|Thriller</td>\n",
       "      <td>Universal Studios|Amblin Entertainment|Legenda...</td>\n",
       "      <td>6/9/2015</td>\n",
       "      <td>5562</td>\n",
       "      <td>6.5</td>\n",
       "      <td>2015</td>\n",
       "    </tr>\n",
       "    <tr>\n",
       "      <th>1</th>\n",
       "      <td>tt1392190</td>\n",
       "      <td>28.419936</td>\n",
       "      <td>150000000</td>\n",
       "      <td>378436354</td>\n",
       "      <td>Mad Max: Fury Road</td>\n",
       "      <td>Tom Hardy|Charlize Theron|Hugh Keays-Byrne|Nic...</td>\n",
       "      <td>George Miller</td>\n",
       "      <td>What a Lovely Day.</td>\n",
       "      <td>An apocalyptic story set in the furthest reach...</td>\n",
       "      <td>120</td>\n",
       "      <td>Action|Adventure|Science Fiction|Thriller</td>\n",
       "      <td>Village Roadshow Pictures|Kennedy Miller Produ...</td>\n",
       "      <td>5/13/2015</td>\n",
       "      <td>6185</td>\n",
       "      <td>7.1</td>\n",
       "      <td>2015</td>\n",
       "    </tr>\n",
       "    <tr>\n",
       "      <th>2</th>\n",
       "      <td>tt2908446</td>\n",
       "      <td>13.112507</td>\n",
       "      <td>110000000</td>\n",
       "      <td>295238201</td>\n",
       "      <td>Insurgent</td>\n",
       "      <td>Shailene Woodley|Theo James|Kate Winslet|Ansel...</td>\n",
       "      <td>Robert Schwentke</td>\n",
       "      <td>One Choice Can Destroy You</td>\n",
       "      <td>Beatrice Prior must confront her inner demons ...</td>\n",
       "      <td>119</td>\n",
       "      <td>Adventure|Science Fiction|Thriller</td>\n",
       "      <td>Summit Entertainment|Mandeville Films|Red Wago...</td>\n",
       "      <td>3/18/2015</td>\n",
       "      <td>2480</td>\n",
       "      <td>6.3</td>\n",
       "      <td>2015</td>\n",
       "    </tr>\n",
       "    <tr>\n",
       "      <th>3</th>\n",
       "      <td>tt2488496</td>\n",
       "      <td>11.173104</td>\n",
       "      <td>200000000</td>\n",
       "      <td>2068178225</td>\n",
       "      <td>Star Wars: The Force Awakens</td>\n",
       "      <td>Harrison Ford|Mark Hamill|Carrie Fisher|Adam D...</td>\n",
       "      <td>J.J. Abrams</td>\n",
       "      <td>Every generation has a story.</td>\n",
       "      <td>Thirty years after defeating the Galactic Empi...</td>\n",
       "      <td>136</td>\n",
       "      <td>Action|Adventure|Science Fiction|Fantasy</td>\n",
       "      <td>Lucasfilm|Truenorth Productions|Bad Robot</td>\n",
       "      <td>12/15/2015</td>\n",
       "      <td>5292</td>\n",
       "      <td>7.5</td>\n",
       "      <td>2015</td>\n",
       "    </tr>\n",
       "  </tbody>\n",
       "</table>\n",
       "</div>"
      ],
      "text/plain": [
       "     imdb_id  popularity     budget     revenue                original_title  \\\n",
       "0  tt0369610   32.985763  150000000  1513528810                Jurassic World   \n",
       "1  tt1392190   28.419936  150000000   378436354            Mad Max: Fury Road   \n",
       "2  tt2908446   13.112507  110000000   295238201                     Insurgent   \n",
       "3  tt2488496   11.173104  200000000  2068178225  Star Wars: The Force Awakens   \n",
       "\n",
       "                                                cast          director  \\\n",
       "0  Chris Pratt|Bryce Dallas Howard|Irrfan Khan|Vi...   Colin Trevorrow   \n",
       "1  Tom Hardy|Charlize Theron|Hugh Keays-Byrne|Nic...     George Miller   \n",
       "2  Shailene Woodley|Theo James|Kate Winslet|Ansel...  Robert Schwentke   \n",
       "3  Harrison Ford|Mark Hamill|Carrie Fisher|Adam D...       J.J. Abrams   \n",
       "\n",
       "                         tagline  \\\n",
       "0              The park is open.   \n",
       "1             What a Lovely Day.   \n",
       "2     One Choice Can Destroy You   \n",
       "3  Every generation has a story.   \n",
       "\n",
       "                                            overview  runtime  \\\n",
       "0  Twenty-two years after the events of Jurassic ...      124   \n",
       "1  An apocalyptic story set in the furthest reach...      120   \n",
       "2  Beatrice Prior must confront her inner demons ...      119   \n",
       "3  Thirty years after defeating the Galactic Empi...      136   \n",
       "\n",
       "                                      genres  \\\n",
       "0  Action|Adventure|Science Fiction|Thriller   \n",
       "1  Action|Adventure|Science Fiction|Thriller   \n",
       "2         Adventure|Science Fiction|Thriller   \n",
       "3   Action|Adventure|Science Fiction|Fantasy   \n",
       "\n",
       "                                production_companies release_date  vote_count  \\\n",
       "0  Universal Studios|Amblin Entertainment|Legenda...     6/9/2015        5562   \n",
       "1  Village Roadshow Pictures|Kennedy Miller Produ...    5/13/2015        6185   \n",
       "2  Summit Entertainment|Mandeville Films|Red Wago...    3/18/2015        2480   \n",
       "3          Lucasfilm|Truenorth Productions|Bad Robot   12/15/2015        5292   \n",
       "\n",
       "   vote_average  release_year  \n",
       "0           6.5          2015  \n",
       "1           7.1          2015  \n",
       "2           6.3          2015  \n",
       "3           7.5          2015  "
      ]
     },
     "execution_count": 89,
     "metadata": {},
     "output_type": "execute_result"
    }
   ],
   "source": [
    "data = pd.read_csv('data.csv') #загружаем файл\n",
    "data.head(4) #смотрим шапку таблицы"
   ]
  },
  {
   "cell_type": "code",
   "execution_count": 4,
   "metadata": {},
   "outputs": [
    {
     "data": {
      "text/plain": [
       "1890"
      ]
     },
     "execution_count": 4,
     "metadata": {},
     "output_type": "execute_result"
    }
   ],
   "source": [
    "len(data) #выводим количество фильмов"
   ]
  },
  {
   "cell_type": "markdown",
   "metadata": {},
   "source": [
    "# Предобработка датасета"
   ]
  },
  {
   "cell_type": "code",
   "execution_count": 5,
   "metadata": {},
   "outputs": [],
   "source": [
    "answer_ls = [] # создадим список с ответами. сюда будем добавлять ответы по мере прохождения теста\n",
    "# сюда можем вписать создание новых колонок в датасете"
   ]
  },
  {
   "cell_type": "markdown",
   "metadata": {},
   "source": [
    "# 1. У какого фильма из списка самый большой бюджет?\n",
    "Варианты ответов:\n",
    "1. The Dark Knight Rises (tt1345836)\n",
    "2. Spider-Man 3 (tt0413300)\n",
    "3. Avengers: Age of Ultron (tt2395427)\n",
    "4. The Warrior's Way\t(tt1032751)\n",
    "5. Pirates of the Caribbean: On Stranger Tides (tt1298650)"
   ]
  },
  {
   "cell_type": "code",
   "execution_count": 6,
   "metadata": {},
   "outputs": [
    {
     "data": {
      "text/plain": [
       "\"The Warrior's Way\""
      ]
     },
     "execution_count": 6,
     "metadata": {},
     "output_type": "execute_result"
    }
   ],
   "source": [
    "answer_ls.append(list(data[data.budget == data.budget.max()].original_title)[0])\n",
    "answer_ls[-1] #выводим ответ"
   ]
  },
  {
   "cell_type": "markdown",
   "metadata": {},
   "source": [
    "# 2. Какой из фильмов самый длительный (в минутах)\n",
    "1. The Lord of the Rings: The Return of the King\t(tt0167260)\n",
    "2. Gods and Generals\t(tt0279111)\n",
    "3. King Kong\t(tt0360717)\n",
    "4. Pearl Harbor\t(tt0213149)\n",
    "5. Alexander\t(tt0346491)"
   ]
  },
  {
   "cell_type": "code",
   "execution_count": 7,
   "metadata": {},
   "outputs": [
    {
     "data": {
      "text/plain": [
       "'Gods and Generals'"
      ]
     },
     "execution_count": 7,
     "metadata": {},
     "output_type": "execute_result"
    }
   ],
   "source": [
    "answer_ls.append(list(data[data.runtime == data.runtime.max()].original_title)[0]) #делаем выборку по runtime\n",
    "answer_ls[-1] #выводим ответ"
   ]
  },
  {
   "cell_type": "markdown",
   "metadata": {},
   "source": [
    "# 3. Какой из фильмов самый короткий (в минутах)\n",
    "Варианты ответов:\n",
    "\n",
    "1. Home on the Range\ttt0299172\n",
    "2. The Jungle Book 2\ttt0283426\n",
    "3. Winnie the Pooh\ttt1449283\n",
    "4. Corpse Bride\ttt0121164\n",
    "5. Hoodwinked!\ttt0443536"
   ]
  },
  {
   "cell_type": "code",
   "execution_count": 8,
   "metadata": {},
   "outputs": [
    {
     "data": {
      "text/plain": [
       "'Winnie the Pooh'"
      ]
     },
     "execution_count": 8,
     "metadata": {},
     "output_type": "execute_result"
    }
   ],
   "source": [
    "answer_ls.append(list(data[data.runtime == data.runtime.min()].original_title)[0]) #делаем выборку по runtime\n",
    "answer_ls[-1] #выводим ответ"
   ]
  },
  {
   "cell_type": "markdown",
   "metadata": {},
   "source": [
    "# 4. Средняя длительность фильма?\n",
    "\n",
    "Варианты ответов:\n",
    "1. 115\n",
    "2. 110\n",
    "3. 105\n",
    "4. 120\n",
    "5. 100\n"
   ]
  },
  {
   "cell_type": "code",
   "execution_count": 9,
   "metadata": {},
   "outputs": [
    {
     "data": {
      "text/plain": [
       "110"
      ]
     },
     "execution_count": 9,
     "metadata": {},
     "output_type": "execute_result"
    }
   ],
   "source": [
    "answer_ls.append(round(data.runtime.mean())) #вычисляем среднее runtime. Получаем дробное число, значит можно округлить\n",
    "answer_ls[-1] #выводим ответ"
   ]
  },
  {
   "cell_type": "markdown",
   "metadata": {},
   "source": [
    "# 5. Средняя длительность фильма по медиане?\n",
    "Варианты ответов:\n",
    "1. 106\n",
    "2. 112\n",
    "3. 101\n",
    "4. 120\n",
    "5. 115\n",
    "\n",
    "\n"
   ]
  },
  {
   "cell_type": "code",
   "execution_count": 10,
   "metadata": {},
   "outputs": [
    {
     "data": {
      "text/plain": [
       "106"
      ]
     },
     "execution_count": 10,
     "metadata": {},
     "output_type": "execute_result"
    }
   ],
   "source": [
    "answer_ls.append(round(data.runtime.median())) #вычисляем медиану runtime. Получаем дробное число, значит можно округлить\n",
    "answer_ls[-1] #выводим ответ"
   ]
  },
  {
   "cell_type": "markdown",
   "metadata": {},
   "source": [
    "# 6. Какой самый прибыльный фильм?\n",
    "Варианты ответов:\n",
    "1. The Avengers\ttt0848228\n",
    "2. Minions\ttt2293640\n",
    "3. Star Wars: The Force Awakens\ttt2488496\n",
    "4. Furious 7\ttt2820852\n",
    "5. Avatar\ttt0499549"
   ]
  },
  {
   "cell_type": "code",
   "execution_count": 100,
   "metadata": {},
   "outputs": [
    {
     "data": {
      "text/plain": [
       "'Avatar'"
      ]
     },
     "execution_count": 100,
     "metadata": {},
     "output_type": "execute_result"
    }
   ],
   "source": [
    "data['margin'] = data.revenue - data.budget #расчитываем прибыль, создав новую колонку, учитывая сборы и затраты\n",
    "answer_ls.append(list(data[data.margin == data.margin.max()].original_title)[0]) #делаем выборку по прибыли\n",
    "answer_ls[-1] #выводим ответ"
   ]
  },
  {
   "cell_type": "markdown",
   "metadata": {},
   "source": [
    "# 7. Какой фильм самый убыточный?\n",
    "Варианты ответов:\n",
    "1. Supernova tt0134983\n",
    "2. The Warrior's Way tt1032751\n",
    "3. Flushed Away\ttt0424095\n",
    "4. The Adventures of Pluto Nash\ttt0180052\n",
    "5. The Lone Ranger\ttt1210819"
   ]
  },
  {
   "cell_type": "code",
   "execution_count": 12,
   "metadata": {},
   "outputs": [
    {
     "data": {
      "text/plain": [
       "[\"The Warrior's Way\"]"
      ]
     },
     "execution_count": 12,
     "metadata": {},
     "output_type": "execute_result"
    }
   ],
   "source": [
    "answer_ls.append(list(data[data.margin == data.margin.min()].original_title)) #делаем выборку по прибыли\n",
    "answer_ls[-1] #выводим ответ"
   ]
  },
  {
   "cell_type": "markdown",
   "metadata": {},
   "source": [
    "# 8. Сколько всего фильмов в прибыли?\n",
    "Варианты ответов:\n",
    "1. 1478\n",
    "2. 1520\n",
    "3. 1241\n",
    "4. 1135\n",
    "5. 1398\n"
   ]
  },
  {
   "cell_type": "code",
   "execution_count": 13,
   "metadata": {},
   "outputs": [
    {
     "data": {
      "text/plain": [
       "1478"
      ]
     },
     "execution_count": 13,
     "metadata": {},
     "output_type": "execute_result"
    }
   ],
   "source": [
    "answer_ls.append(len(data[data.margin > 0])) #делаем выборку чья прибыль больше 0\n",
    "answer_ls[-1] #выводим ответ"
   ]
  },
  {
   "cell_type": "markdown",
   "metadata": {},
   "source": [
    "# 9. Самый прибыльный фильм в 2008 году?\n",
    "Варианты ответов:\n",
    "1. Madagascar: Escape 2 Africa\ttt0479952\n",
    "2. Iron Man\ttt0371746\n",
    "3. Kung Fu Panda\ttt0441773\n",
    "4. The Dark Knight\ttt0468569\n",
    "5. Mamma Mia!\ttt0795421"
   ]
  },
  {
   "cell_type": "code",
   "execution_count": 14,
   "metadata": {},
   "outputs": [
    {
     "data": {
      "text/plain": [
       "'The Dark Knight'"
      ]
     },
     "execution_count": 14,
     "metadata": {},
     "output_type": "execute_result"
    }
   ],
   "source": [
    "answer_ls.append(list(data[data.margin == data[data.release_year == 2008].margin.max()].original_title)[0]) #делаем выборку чья прибыль максимальна среди фильмов 2008 года\n",
    "answer_ls[-1] #выводим ответ"
   ]
  },
  {
   "cell_type": "markdown",
   "metadata": {},
   "source": [
    "# 10. Самый убыточный фильм за период с 2012 по 2014 (включительно)?\n",
    "Варианты ответов:\n",
    "1. Winter's Tale\ttt1837709\n",
    "2. Stolen\ttt1656186\n",
    "3. Broken City\ttt1235522\n",
    "4. Upside Down\ttt1374992\n",
    "5. The Lone Ranger\ttt1210819\n"
   ]
  },
  {
   "cell_type": "code",
   "execution_count": 15,
   "metadata": {},
   "outputs": [
    {
     "name": "stderr",
     "output_type": "stream",
     "text": [
      "C:\\Users\\GenaraT0R\\Anaconda3\\lib\\site-packages\\ipykernel_launcher.py:2: UserWarning: Boolean Series key will be reindexed to match DataFrame index.\n",
      "  \n"
     ]
    },
    {
     "data": {
      "text/plain": [
       "'The Lone Ranger'"
      ]
     },
     "execution_count": 15,
     "metadata": {},
     "output_type": "execute_result"
    }
   ],
   "source": [
    "# здесь пренебрег выборкой margin < 0, предпологая что наименее прибыльный фильм в датасете убыточный.\n",
    "answer_ls.append(list(data[data.margin == data[data.release_year >= 2012][data.release_year <= 2014].margin.min()].original_title)[0])\n",
    "answer_ls[-1] #выводим ответ"
   ]
  },
  {
   "cell_type": "markdown",
   "metadata": {},
   "source": [
    "# 11. Какого жанра фильмов больше всего?\n",
    "Варианты ответов:\n",
    "1. Action\n",
    "2. Adventure\n",
    "3. Drama\n",
    "4. Comedy\n",
    "5. Thriller"
   ]
  },
  {
   "cell_type": "code",
   "execution_count": 16,
   "metadata": {},
   "outputs": [
    {
     "data": {
      "text/plain": [
       "'Drama'"
      ]
     },
     "execution_count": 16,
     "metadata": {},
     "output_type": "execute_result"
    }
   ],
   "source": [
    "#Так как фильмы могут включать в себя несколько жанров, для подсчета их нужно разделить с помощью split() в данном датасете\n",
    "genres_dict = {} #создадим пустой словарь, куда будем помещать отфильтрованные жанры, т.к. внутри объекта DataFrame это делать неудобно (в данном случае), если вообще возможно.\n",
    "for x in data['genres']:\n",
    "    for y in x.split('|'):\n",
    "        genres_dict.setdefault(y, 0) #чтобы не вызывать ошибки, будем проверять на наличие в словаре жанра и добавлять через функцию setdefault()\n",
    "        genres_dict[y] += 1\n",
    "\n",
    "#Далее для удобства расчета конвертируем созданный словарь в таблицу DataFrame, возможно есть решения лучше.\n",
    "genres_data = pd.DataFrame(list(genres_dict.items()),columns=['genres','movie_count'])\n",
    "\n",
    "#Делаем выборку по количеству фильмов в жанре\n",
    "answer_ls.append(list(genres_data[genres_data.movie_count == genres_data.movie_count.max()].genres)[0])\n",
    "answer_ls[-1] #выводим ответ"
   ]
  },
  {
   "cell_type": "markdown",
   "metadata": {},
   "source": [
    "# 12. Какого жанра среди прибыльных фильмов больше всего?\n",
    "Варианты ответов:\n",
    "1. Drama\n",
    "2. Comedy\n",
    "3. Action\n",
    "4. Thriller\n",
    "5. Adventure"
   ]
  },
  {
   "cell_type": "code",
   "execution_count": 17,
   "metadata": {},
   "outputs": [
    {
     "data": {
      "text/plain": [
       "'Drama'"
      ]
     },
     "execution_count": 17,
     "metadata": {},
     "output_type": "execute_result"
    }
   ],
   "source": [
    "#Используем тот же прием как в предыдущем задании, создадим пустой словарь,\n",
    "#куда поместим данные чья прибыль больше нуля\n",
    "genres_dict = {}\n",
    "for x in data[data.margin > 0].genres:\n",
    "    for y in x.split('|'):\n",
    "        genres_dict.setdefault(y, 0)\n",
    "        genres_dict[y] += 1\n",
    "        \n",
    "#Воспользуемся методом сортировки по значениям, в порядке убывания\n",
    "answer_ls.append(sorted(genres_dict.items(), key=lambda x: x[1], reverse = True)[0][0])\n",
    "answer_ls[-1] #выводим ответ"
   ]
  },
  {
   "cell_type": "markdown",
   "metadata": {},
   "source": [
    "# 13. Кто из режиссеров снял больше всего фильмов?\n",
    "Варианты ответов:\n",
    "1. Steven Spielberg\n",
    "2. Ridley Scott \n",
    "3. Steven Soderbergh\n",
    "4. Christopher Nolan\n",
    "5. Clint Eastwood"
   ]
  },
  {
   "cell_type": "code",
   "execution_count": 18,
   "metadata": {},
   "outputs": [
    {
     "data": {
      "text/plain": [
       "'Steven Soderbergh'"
      ]
     },
     "execution_count": 18,
     "metadata": {},
     "output_type": "execute_result"
    }
   ],
   "source": [
    "#Для начала выясним есть ли смешанные значения в колонке director как в случае с жанрами\n",
    "#display(data.director.unique())\n",
    "\n",
    "#Видим что есть, значит применим тот же метод что применяли с жанрами\n",
    "director_dict = {}\n",
    "for x in data.director:\n",
    "    for y in x.split('|'):\n",
    "        director_dict.setdefault(y, 0)\n",
    "        director_dict[y] += 1\n",
    "\n",
    "#Воспользуемся методом сортировки по значениям, в порядке убывания        \n",
    "answer_ls.append(sorted(director_dict.items(), key=lambda x: x[1], reverse = True)[0][0])\n",
    "answer_ls[-1] #выводим ответ"
   ]
  },
  {
   "cell_type": "markdown",
   "metadata": {},
   "source": [
    "# 14. Кто из режиссеров снял больше всего Прибыльных фильмов?\n",
    "Варианты ответов:\n",
    "1. Steven Soderbergh\n",
    "2. Clint Eastwood\n",
    "3. Steven Spielberg\n",
    "4. Ridley Scott\n",
    "5. Christopher Nolan"
   ]
  },
  {
   "cell_type": "code",
   "execution_count": 19,
   "metadata": {},
   "outputs": [
    {
     "data": {
      "text/plain": [
       "'Ridley Scott'"
      ]
     },
     "execution_count": 19,
     "metadata": {},
     "output_type": "execute_result"
    }
   ],
   "source": [
    "director_dict = {}\n",
    "for x in data[data.margin>0].director:\n",
    "    for y in x.split('|'):\n",
    "        director_dict.setdefault(y, 0)\n",
    "        director_dict[y] += 1\n",
    "\n",
    "#Воспользуемся методом сортировки по значениям, в порядке убывания        \n",
    "answer_ls.append(sorted(director_dict.items(), key=lambda x: x[1], reverse = True)[0][0])\n",
    "answer_ls[-1] #выводим ответ"
   ]
  },
  {
   "cell_type": "markdown",
   "metadata": {},
   "source": [
    "# 15. Кто из режиссеров принес больше всего прибыли?\n",
    "Варианты ответов:\n",
    "1. Steven Spielberg\n",
    "2. Christopher Nolan\n",
    "3. David Yates\n",
    "4. James Cameron\n",
    "5. Peter Jackson\n"
   ]
  },
  {
   "cell_type": "code",
   "execution_count": 20,
   "metadata": {},
   "outputs": [
    {
     "data": {
      "text/plain": [
       "'Peter Jackson'"
      ]
     },
     "execution_count": 20,
     "metadata": {},
     "output_type": "execute_result"
    }
   ],
   "source": [
    "#Действуем по той же логике, но перебираем не выборку, а весь массив данных по индексу, для того что бы можно было разделить смешанные данные и обратиться к значению прибыли.\n",
    "director_dict = {}\n",
    "for x in range(len(data)):\n",
    "    for y in list(data[data.index == x].director)[0].split('|'):\n",
    "        director_dict.setdefault(y, 0)\n",
    "        director_dict[y] += list(data[data.index == x].margin)[0]\n",
    "\n",
    "answer_ls.append(sorted(director_dict.items(), key=lambda x: x[1], reverse = True)[0][0])\n",
    "answer_ls[-1] #выводим ответ"
   ]
  },
  {
   "cell_type": "markdown",
   "metadata": {},
   "source": [
    "# 16. Какой актер принес больше всего прибыли?\n",
    "Варианты ответов:\n",
    "1. Emma Watson\n",
    "2. Johnny Depp\n",
    "3. Michelle Rodriguez\n",
    "4. Orlando Bloom\n",
    "5. Rupert Grint"
   ]
  },
  {
   "cell_type": "code",
   "execution_count": 21,
   "metadata": {},
   "outputs": [
    {
     "data": {
      "text/plain": [
       "'Emma Watson'"
      ]
     },
     "execution_count": 21,
     "metadata": {},
     "output_type": "execute_result"
    }
   ],
   "source": [
    "#Копипастим, меняем director на cast :), в данном случае данные так же смешанные\n",
    "cast_dict = {}\n",
    "for x in range(len(data)):\n",
    "    for y in list(data[data.index == x].cast)[0].split('|'):\n",
    "        cast_dict.setdefault(y, 0)\n",
    "        cast_dict[y] += list(data[data.index == x].margin)[0]\n",
    "\n",
    "answer_ls.append(sorted(cast_dict.items(), key=lambda x: x[1], reverse = True)[0][0])\n",
    "answer_ls[-1] #выводим ответ"
   ]
  },
  {
   "cell_type": "markdown",
   "metadata": {},
   "source": [
    "# 17. Какой актер принес меньше всего прибыли в 2012 году?\n",
    "Варианты ответов:\n",
    "1. Nicolas Cage\n",
    "2. Danny Huston\n",
    "3. Kirsten Dunst\n",
    "4. Jim Sturgess\n",
    "5. Sami Gayle"
   ]
  },
  {
   "cell_type": "code",
   "execution_count": 22,
   "metadata": {},
   "outputs": [
    {
     "data": {
      "text/plain": [
       "'Kirsten Dunst'"
      ]
     },
     "execution_count": 22,
     "metadata": {},
     "output_type": "execute_result"
    }
   ],
   "source": [
    "cast_dict = {}\n",
    "for x in range(len(data)):\n",
    "    if list(data[data.index == x].release_year)[0]==2012: #теперь добавляем только данные фильмов за 2012\n",
    "        for y in list(data[data.index == x].cast)[0].split('|'):\n",
    "            cast_dict.setdefault(y, 0)\n",
    "            cast_dict[y] += list(data[data.index == x].margin)[0]\n",
    "\n",
    "answer_ls.append(sorted(cast_dict.items(), key=lambda x: x[1])[0][0])#убираем reverse тк нас интересует наименьшее значение\n",
    "answer_ls[-1] #выводим ответ"
   ]
  },
  {
   "cell_type": "markdown",
   "metadata": {},
   "source": [
    "# 18. Какой актер снялся в большем количестве высокобюджетных фильмов? (в фильмах где бюджет выше среднего по данной выборке)\n",
    "Варианты ответов:\n",
    "1. Tom Cruise\n",
    "2. Mark Wahlberg \n",
    "3. Matt Damon\n",
    "4. Angelina Jolie\n",
    "5. Adam Sandler"
   ]
  },
  {
   "cell_type": "code",
   "execution_count": 23,
   "metadata": {},
   "outputs": [
    {
     "data": {
      "text/plain": [
       "'Matt Damon'"
      ]
     },
     "execution_count": 23,
     "metadata": {},
     "output_type": "execute_result"
    }
   ],
   "source": [
    "cast_dict = {}\n",
    "for x in data[data.budget>data.budget.mean()].cast:\n",
    "    for y in x.split('|'):\n",
    "        cast_dict.setdefault(y, 0)\n",
    "        cast_dict[y] += 1\n",
    "\n",
    "answer_ls.append(sorted(cast_dict.items(), key=lambda x: x[1], reverse = True)[0][0])\n",
    "answer_ls[-1] #выводим ответ"
   ]
  },
  {
   "cell_type": "markdown",
   "metadata": {},
   "source": [
    "# 19. В фильмах какого жанра больше всего снимался Nicolas Cage?  \n",
    "Варианты ответа:\n",
    "1. Drama\n",
    "2. Action\n",
    "3. Thriller\n",
    "4. Adventure\n",
    "5. Crime"
   ]
  },
  {
   "cell_type": "code",
   "execution_count": 24,
   "metadata": {},
   "outputs": [
    {
     "data": {
      "text/plain": [
       "'Action'"
      ]
     },
     "execution_count": 24,
     "metadata": {},
     "output_type": "execute_result"
    }
   ],
   "source": [
    "cast_dict = {}\n",
    "for x in range(len(data)):\n",
    "    if 'Nicolas Cage' in list(data[data.index == x].cast)[0]:\n",
    "        for y in list(data[data.index == x].genres)[0].split('|'):\n",
    "            cast_dict.setdefault(y, 0)\n",
    "            cast_dict[y] += 1\n",
    "\n",
    "answer_ls.append(sorted(cast_dict.items(), key=lambda x: x[1], reverse = True)[0][0])\n",
    "answer_ls[-1] #выводим ответ"
   ]
  },
  {
   "cell_type": "markdown",
   "metadata": {},
   "source": [
    "# 20. Какая студия сняла больше всего фильмов?\n",
    "Варианты ответа:\n",
    "1. Universal Pictures (Universal)\n",
    "2. Paramount Pictures\n",
    "3. Columbia Pictures\n",
    "4. Warner Bros\n",
    "5. Twentieth Century Fox Film Corporation"
   ]
  },
  {
   "cell_type": "code",
   "execution_count": 25,
   "metadata": {},
   "outputs": [
    {
     "data": {
      "text/plain": [
       "'Universal Pictures'"
      ]
     },
     "execution_count": 25,
     "metadata": {},
     "output_type": "execute_result"
    }
   ],
   "source": [
    "production_companies_dict = {}\n",
    "for x in data.production_companies:\n",
    "    for y in x.split('|'):\n",
    "        production_companies_dict.setdefault(y, 0)\n",
    "        production_companies_dict[y] += 1\n",
    "\n",
    "answer_ls.append(sorted(production_companies_dict.items(), key=lambda x: x[1], reverse = True)[0][0])\n",
    "answer_ls[-1] #выводим ответ"
   ]
  },
  {
   "cell_type": "markdown",
   "metadata": {},
   "source": [
    "# 21. Какая студия сняла больше всего фильмов в 2015 году?\n",
    "Варианты ответа:\n",
    "1. Universal Pictures\n",
    "2. Paramount Pictures\n",
    "3. Columbia Pictures\n",
    "4. Warner Bros\n",
    "5. Twentieth Century Fox Film Corporation"
   ]
  },
  {
   "cell_type": "code",
   "execution_count": 26,
   "metadata": {},
   "outputs": [
    {
     "data": {
      "text/plain": [
       "'Warner Bros.'"
      ]
     },
     "execution_count": 26,
     "metadata": {},
     "output_type": "execute_result"
    }
   ],
   "source": [
    "production_companies_dict = {}\n",
    "for x in data[data.release_year==2015].production_companies:\n",
    "    for y in x.split('|'):\n",
    "        production_companies_dict.setdefault(y, 0)\n",
    "        production_companies_dict[y] += 1\n",
    "\n",
    "answer_ls.append(sorted(production_companies_dict.items(), key=lambda x: x[1], reverse = True)[0][0])\n",
    "answer_ls[-1] #выводим ответ"
   ]
  },
  {
   "cell_type": "markdown",
   "metadata": {},
   "source": [
    "# 22. Какая студия заработала больше всего денег в жанре комедий за все время?\n",
    "Варианты ответа:\n",
    "1. Warner Bros\n",
    "2. Universal Pictures (Universal)\n",
    "3. Columbia Pictures\n",
    "4. Paramount Pictures\n",
    "5. Walt Disney"
   ]
  },
  {
   "cell_type": "code",
   "execution_count": 27,
   "metadata": {},
   "outputs": [
    {
     "data": {
      "text/plain": [
       "'Universal Pictures'"
      ]
     },
     "execution_count": 27,
     "metadata": {},
     "output_type": "execute_result"
    }
   ],
   "source": [
    "production_companies_dict = {}\n",
    "for x in range(len(data)):\n",
    "    if 'Comedy' in list(data[data.index == x].genres)[0]:\n",
    "        for y in list(data[data.index == x].production_companies)[0].split('|'):\n",
    "            production_companies_dict.setdefault(y, 0)\n",
    "            production_companies_dict[y] += list(data[data.index == x].margin)[0]\n",
    "\n",
    "answer_ls.append(sorted(production_companies_dict.items(), key=lambda x: x[1], reverse = True)[0][0])\n",
    "answer_ls[-1] #выводим ответ"
   ]
  },
  {
   "cell_type": "markdown",
   "metadata": {},
   "source": [
    "# 23. Какая студия заработала больше всего денег в 2012 году?\n",
    "Варианты ответа:\n",
    "1. Universal Pictures (Universal)\n",
    "2. Warner Bros\n",
    "3. Columbia Pictures\n",
    "4. Paramount Pictures\n",
    "5. Lucasfilm"
   ]
  },
  {
   "cell_type": "code",
   "execution_count": 28,
   "metadata": {},
   "outputs": [
    {
     "data": {
      "text/plain": [
       "'Columbia Pictures'"
      ]
     },
     "execution_count": 28,
     "metadata": {},
     "output_type": "execute_result"
    }
   ],
   "source": [
    "production_companies_dict = {}\n",
    "for x in range(len(data)):\n",
    "    if list(data[data.index == x].release_year)[0]==2012:\n",
    "        for y in list(data[data.index == x].production_companies)[0].split('|'):\n",
    "            production_companies_dict.setdefault(y, 0)\n",
    "            production_companies_dict[y] += list(data[data.index == x].margin)[0]\n",
    "\n",
    "answer_ls.append(sorted(production_companies_dict.items(), key=lambda x: x[1], reverse = True)[0][0])\n",
    "answer_ls[-1] #выводим ответ"
   ]
  },
  {
   "cell_type": "markdown",
   "metadata": {},
   "source": [
    "# 24. Самый убыточный фильм от Paramount Pictures\n",
    "Варианты ответа:\n",
    "\n",
    "1. K-19: The Widowmaker tt0267626\n",
    "2. Next tt0435705\n",
    "3. Twisted tt0315297\n",
    "4. The Love Guru tt0811138\n",
    "5. The Fighter tt0964517"
   ]
  },
  {
   "cell_type": "code",
   "execution_count": 29,
   "metadata": {},
   "outputs": [
    {
     "data": {
      "text/plain": [
       "'K-19: The Widowmaker'"
      ]
     },
     "execution_count": 29,
     "metadata": {},
     "output_type": "execute_result"
    }
   ],
   "source": [
    "original_title_dict = {}\n",
    "for x in range(len(data)):\n",
    "    if 'Paramount Pictures' in list(data[data.index == x].production_companies)[0]:\n",
    "        original_title_dict.setdefault(list(data[data.index == x].original_title)[0],list(data[data.index == x].margin)[0])\n",
    "\n",
    "answer_ls.append(sorted(original_title_dict.items(), key=lambda x: x[1])[0][0])\n",
    "answer_ls[-1] #выводим ответ    "
   ]
  },
  {
   "cell_type": "markdown",
   "metadata": {},
   "source": [
    "# 25. Какой Самый прибыльный год (заработали больше всего)?\n",
    "Варианты ответа:\n",
    "1. 2014\n",
    "2. 2008\n",
    "3. 2012\n",
    "4. 2002\n",
    "5. 2015"
   ]
  },
  {
   "cell_type": "code",
   "execution_count": 30,
   "metadata": {},
   "outputs": [
    {
     "data": {
      "text/plain": [
       "2015"
      ]
     },
     "execution_count": 30,
     "metadata": {},
     "output_type": "execute_result"
    }
   ],
   "source": [
    "data_release_year = data.groupby(['release_year']).sum()\n",
    "answer_ls.append(data_release_year[data_release_year.margin==data_release_year.margin.max()].index[0])\n",
    "answer_ls[-1] #выводим ответ  "
   ]
  },
  {
   "cell_type": "markdown",
   "metadata": {},
   "source": [
    "# 26. Какой Самый прибыльный год для студии Warner Bros?\n",
    "Варианты ответа:\n",
    "1. 2014\n",
    "2. 2008\n",
    "3. 2012\n",
    "4. 2010\n",
    "5. 2015"
   ]
  },
  {
   "cell_type": "code",
   "execution_count": 31,
   "metadata": {},
   "outputs": [
    {
     "data": {
      "text/plain": [
       "2014"
      ]
     },
     "execution_count": 31,
     "metadata": {},
     "output_type": "execute_result"
    }
   ],
   "source": [
    "years_dict = {}\n",
    "for x in range(len(data)):\n",
    "    if 'Warner Bros' in list(data[data.index == x].production_companies)[0]:\n",
    "        y=list(data[data.index == x].release_year)[0]\n",
    "        years_dict.setdefault(y, 0)\n",
    "        years_dict[y] += list(data[data.index == x].margin)[0]\n",
    "        \n",
    "answer_ls.append(sorted(years_dict.items(), key=lambda x: x[1], reverse = True)[0][0])\n",
    "answer_ls[-1] #выводим ответ"
   ]
  },
  {
   "cell_type": "markdown",
   "metadata": {},
   "source": [
    "# 27. В каком месяце за все годы суммарно вышло больше всего фильмов?\n",
    "Варианты ответа:\n",
    "1. Январь\n",
    "2. Июнь\n",
    "3. Декабрь\n",
    "4. Сентябрь\n",
    "5. Май"
   ]
  },
  {
   "cell_type": "code",
   "execution_count": 32,
   "metadata": {},
   "outputs": [
    {
     "data": {
      "text/plain": [
       "'сентябрь'"
      ]
     },
     "execution_count": 32,
     "metadata": {},
     "output_type": "execute_result"
    }
   ],
   "source": [
    "from datetime import datetime\n",
    "mounth_list = [\n",
    "    'январь',\n",
    "    'февраль',\n",
    "    'март',\n",
    "    'апрель',\n",
    "    'май',\n",
    "    'июнь',\n",
    "    'июль',\n",
    "    'август',\n",
    "    'сентябрь',\n",
    "    'октябрь',\n",
    "    'ноябрь',\n",
    "    'декабрь'\n",
    "]\n",
    "\n",
    "data['mounth'] = data.release_date.apply(lambda x : mounth_list[int(datetime.strptime(x,'%m/%d/%Y').month)-1])\n",
    "answer_ls.append(data.mounth.value_counts().keys()[0])\n",
    "answer_ls[-1] #выводим ответ"
   ]
  },
  {
   "cell_type": "markdown",
   "metadata": {},
   "source": [
    "# 28. Сколько суммарно вышло фильмов летом? (за июнь, июль, август)\n",
    "Варианты ответа:\n",
    "1. 345\n",
    "2. 450\n",
    "3. 478\n",
    "4. 523\n",
    "5. 381"
   ]
  },
  {
   "cell_type": "code",
   "execution_count": 33,
   "metadata": {},
   "outputs": [
    {
     "data": {
      "text/plain": [
       "450"
      ]
     },
     "execution_count": 33,
     "metadata": {},
     "output_type": "execute_result"
    }
   ],
   "source": [
    "answer_ls.append(len(data[data.mounth=='июнь']) + len(data[data.mounth=='июль']) + len(data[data.mounth=='август']))\n",
    "answer_ls[-1] #выводим ответ"
   ]
  },
  {
   "cell_type": "markdown",
   "metadata": {},
   "source": [
    "# 29. Какой режисер выпускает (суммарно по годам) больше всего фильмов зимой?\n",
    "Варианты ответов:\n",
    "1. Steven Soderbergh\n",
    "2. Christopher Nolan\n",
    "3. Clint Eastwood\n",
    "4. Ridley Scott\n",
    "5. Peter Jackson"
   ]
  },
  {
   "cell_type": "code",
   "execution_count": 34,
   "metadata": {},
   "outputs": [
    {
     "data": {
      "text/plain": [
       "'Peter Jackson'"
      ]
     },
     "execution_count": 34,
     "metadata": {},
     "output_type": "execute_result"
    }
   ],
   "source": [
    "#Действуем по той же логике, но перебираем не выборку, а весь массив данных по индексу, для того что бы можно было разделить смешанные данные и обратиться к значению прибыли.\n",
    "director_dict = {}\n",
    "for x in range(len(data)):\n",
    "    mounth = list(data[data.index == x].mounth)[0]\n",
    "    if mounth=='декабрь' or  mounth=='январь' or  mounth=='февраль':\n",
    "        for y in list(data[data.index == x].director)[0].split('|'):\n",
    "            director_dict.setdefault(y, 0)\n",
    "            director_dict[y] += 1\n",
    "\n",
    "answer_ls.append(sorted(director_dict.items(), key=lambda x: x[1], reverse = True)[0][0])\n",
    "answer_ls[-1] #выводим ответ"
   ]
  },
  {
   "cell_type": "markdown",
   "metadata": {},
   "source": [
    "# 30. Какой месяц чаще всего по годам самый прибыльный?\n",
    "Варианты ответа:\n",
    "1. Январь\n",
    "2. Июнь\n",
    "3. Декабрь\n",
    "4. Сентябрь\n",
    "5. Май"
   ]
  },
  {
   "cell_type": "code",
   "execution_count": 35,
   "metadata": {},
   "outputs": [
    {
     "data": {
      "text/plain": [
       "'июнь'"
      ]
     },
     "execution_count": 35,
     "metadata": {},
     "output_type": "execute_result"
    }
   ],
   "source": [
    "data_release_year = data.groupby(['mounth']).sum()\n",
    "data_release_year[data_release_year.margin==data_release_year.margin.max()].margin.keys()[0]"
   ]
  },
  {
   "cell_type": "markdown",
   "metadata": {},
   "source": [
    "# 31. Названия фильмов какой студии в среднем самые длинные по количеству символов?\n",
    "Варианты ответа:\n",
    "1. Universal Pictures (Universal)\n",
    "2. Warner Bros\n",
    "3. Jim Henson Company, The\n",
    "4. Paramount Pictures\n",
    "5. Four By Two Productions"
   ]
  },
  {
   "cell_type": "code",
   "execution_count": 45,
   "metadata": {},
   "outputs": [
    {
     "data": {
      "text/plain": [
       "'Four By Two Productions'"
      ]
     },
     "execution_count": 45,
     "metadata": {},
     "output_type": "execute_result"
    }
   ],
   "source": [
    "production_companies_dict_count = {}\n",
    "production_companies_dict = {}\n",
    "\n",
    "for x in range(len(data)):\n",
    "    for y in list(data[data.index == x].production_companies)[0].split('|'):\n",
    "        production_companies_dict.setdefault(y, 0)\n",
    "        production_companies_dict_count.setdefault(y, 0)\n",
    "        production_companies_dict[y] += len(list(data[data.index == x].original_title)[0])\n",
    "        production_companies_dict_count[y] += 1\n",
    "\n",
    "\n",
    "\n",
    "\n",
    "\n",
    "for x in production_companies_dict_count:\n",
    "    production_companies_dict[x] = production_companies_dict[x] / production_companies_dict_count[x]\n",
    "  \n",
    "answer_ls.append(sorted(production_companies_dict.items(), key=lambda x: x[1], reverse = True)[0][0])\n",
    "answer_ls[-1] #выводим ответ"
   ]
  },
  {
   "cell_type": "markdown",
   "metadata": {},
   "source": [
    "# 32. Названия фильмов какой студии в среднем самые длинные по количеству слов?\n",
    "Варианты ответа:\n",
    "1. Universal Pictures (Universal)\n",
    "2. Warner Bros\n",
    "3. Jim Henson Company, The\n",
    "4. Paramount Pictures\n",
    "5. Four By Two Productions"
   ]
  },
  {
   "cell_type": "code",
   "execution_count": 48,
   "metadata": {},
   "outputs": [
    {
     "data": {
      "text/plain": [
       "'Four By Two Productions'"
      ]
     },
     "execution_count": 48,
     "metadata": {},
     "output_type": "execute_result"
    }
   ],
   "source": [
    "production_companies_dict_count = {}\n",
    "production_companies_dict = {}\n",
    "\n",
    "for x in range(len(data)):\n",
    "    for y in list(data[data.index == x].production_companies)[0].split('|'):\n",
    "        production_companies_dict.setdefault(y, 0)\n",
    "        production_companies_dict_count.setdefault(y, 0)\n",
    "        production_companies_dict[y] += len(list(data[data.index == x].original_title)[0].split(' '))\n",
    "        production_companies_dict_count[y] += 1\n",
    "\n",
    "\n",
    "\n",
    "\n",
    "\n",
    "for x in production_companies_dict_count:\n",
    "    production_companies_dict[x] = production_companies_dict[x] / production_companies_dict_count[x]\n",
    "  \n",
    "answer_ls.append(sorted(production_companies_dict.items(), key=lambda x: x[1], reverse = True)[0][0])\n",
    "answer_ls[-1] #выводим ответ"
   ]
  },
  {
   "cell_type": "markdown",
   "metadata": {},
   "source": [
    "# 33. Сколько разных слов используется в названиях фильмов?(без учета регистра)\n",
    "Варианты ответа:\n",
    "1. 6540\n",
    "2. 1002\n",
    "3. 2461\n",
    "4. 28304\n",
    "5. 3432"
   ]
  },
  {
   "cell_type": "code",
   "execution_count": 49,
   "metadata": {},
   "outputs": [
    {
     "data": {
      "text/plain": [
       "2477"
      ]
     },
     "execution_count": 49,
     "metadata": {},
     "output_type": "execute_result"
    }
   ],
   "source": [
    "word_count = {}\n",
    "for x in range(len(data)):\n",
    "    for y in list(data[data.index == x].original_title)[0].split(' '):\n",
    "        word_count.setdefault(y, 0)\n",
    "        word_count[y] += 1\n",
    "        \n",
    "answer_ls.append(len(word_count))\n",
    "answer_ls[-1] #выводим ответ"
   ]
  },
  {
   "cell_type": "markdown",
   "metadata": {},
   "source": [
    "# 34. Какие фильмы входят в 1 процент лучших по рейтингу?\n",
    "Варианты ответа:\n",
    "1. Inside Out, Gone Girl, 12 Years a Slave\n",
    "2. BloodRayne, The Adventures of Rocky & Bullwinkle\n",
    "3. The Lord of the Rings: The Return of the King\n",
    "4. 300, Lucky Number Slevin"
   ]
  },
  {
   "cell_type": "code",
   "execution_count": 64,
   "metadata": {},
   "outputs": [
    {
     "data": {
      "text/plain": [
       "600                                   The Dark Knight\n",
       "125                                The Imitation Game\n",
       "9                                          Inside Out\n",
       "118                                      Interstellar\n",
       "34                                               Room\n",
       "1082    The Lord of the Rings: The Return of the King\n",
       "873                                       The Pianist\n",
       "1801                                          Memento\n",
       "1192                                 12 Years a Slave\n",
       "128                                         Gone Girl\n",
       "Name: original_title, dtype: object"
      ]
     },
     "execution_count": 64,
     "metadata": {},
     "output_type": "execute_result"
    }
   ],
   "source": [
    "data.sort_values(by='vote_average', ascending=False).original_title.head(10)"
   ]
  },
  {
   "cell_type": "markdown",
   "metadata": {},
   "source": [
    "# 35. Какие актеры чаще всего снимаются в одном фильме вместе\n",
    "Варианты ответа:\n",
    "1. Johnny Depp & Helena Bonham Carter\n",
    "2. Hugh Jackman & Ian McKellen\n",
    "3. Vin Diesel & Paul Walker\n",
    "4. Adam Sandler & Kevin James\n",
    "5. Daniel Radcliffe & Rupert Grint"
   ]
  },
  {
   "cell_type": "code",
   "execution_count": 96,
   "metadata": {},
   "outputs": [
    {
     "data": {
      "text/plain": [
       "'Daniel Radcliffe & Rupert Grint'"
      ]
     },
     "execution_count": 96,
     "metadata": {},
     "output_type": "execute_result"
    }
   ],
   "source": [
    "cast_dict={} \n",
    "for x in range(len(data)):\n",
    "    union = list(data[data.index == x].cast)[0].split('|')\n",
    "    if len(union)>1:\n",
    "        for y in union:\n",
    "            cast_dict.setdefault(y,[])\n",
    "            cast_dict[y]+=union\n",
    "            \n",
    "cast_union_dict = {} \n",
    "for x in cast_dict:\n",
    "    for y in cast_dict[x]:\n",
    "        if x!=y:\n",
    "            cast_union_dict.setdefault(x+' & '+y,0)\n",
    "            cast_union_dict[x+' & '+y]+=1\n",
    "cast_union_dict\n",
    "\n",
    "answer_ls.append(sorted(cast_union_dict.items(), key=lambda x: x[1], reverse = True)[0][0])\n",
    "answer_ls[-1] #выводим ответ"
   ]
  },
  {
   "cell_type": "markdown",
   "metadata": {},
   "source": [
    "# 36. У какого из режиссеров выше вероятность выпустить фильм в прибыли? (5 баллов)101\n",
    "Варианты ответа:\n",
    "1. Quentin Tarantino\n",
    "2. Steven Soderbergh\n",
    "3. Robert Rodriguez\n",
    "4. Christopher Nolan\n",
    "5. Clint Eastwood"
   ]
  },
  {
   "cell_type": "code",
   "execution_count": 113,
   "metadata": {},
   "outputs": [
    {
     "data": {
      "text/plain": [
       "[('Shawn Levy', [9, 1, 0.9]),\n",
       " ('M. Night Shyamalan', [7, 1, 0.875]),\n",
       " ('Todd Phillips', [7, 1, 0.875]),\n",
       " ('Adam Shankman', [7, 1, 0.875]),\n",
       " ('Quentin Tarantino', [6, 1, 0.8571428571428571]),\n",
       " ('Paul W.S. Anderson', [6, 1, 0.8571428571428571]),\n",
       " ('Dennis Dugan', [6, 1, 0.8571428571428571]),\n",
       " ('Clint Eastwood', [10, 2, 0.8333333333333334]),\n",
       " ('Robert Luketic', [5, 1, 0.8333333333333334]),\n",
       " ('Steve Carr', [5, 1, 0.8333333333333334]),\n",
       " ('Tony Scott', [5, 1, 0.8333333333333334]),\n",
       " ('Martin Scorsese', [5, 1, 0.8333333333333334]),\n",
       " ('Danny Boyle', [5, 1, 0.8333333333333334]),\n",
       " ('Peter Berg', [5, 1, 0.8333333333333334]),\n",
       " ('Lana Wachowski', [4, 1, 0.8]),\n",
       " ('Lilly Wachowski', [4, 1, 0.8]),\n",
       " ('Chris Columbus', [4, 1, 0.8]),\n",
       " ('Peyton Reed', [4, 1, 0.8]),\n",
       " ('Judd Apatow', [4, 1, 0.8]),\n",
       " ('Jay Roach', [4, 1, 0.8]),\n",
       " ('Ken Kwapis', [4, 1, 0.8]),\n",
       " ('Wes Anderson', [4, 1, 0.8]),\n",
       " ('David Dobkin', [4, 1, 0.8]),\n",
       " ('Peter Farrelly', [8, 2, 0.8]),\n",
       " ('David R. Ellis', [4, 1, 0.8]),\n",
       " ('Justin Lin', [4, 1, 0.8]),\n",
       " ('Paul Greengrass', [4, 1, 0.8]),\n",
       " ('Jason Friedberg', [4, 1, 0.8]),\n",
       " ('Aaron Seltzer', [4, 1, 0.8]),\n",
       " ('Martin Campbell', [4, 1, 0.8]),\n",
       " ('Simon West', [4, 1, 0.8]),\n",
       " ('John Moore', [4, 1, 0.8]),\n",
       " ('Mark Waters', [4, 1, 0.8]),\n",
       " ('D.J. Caruso', [4, 1, 0.8]),\n",
       " ('Bobby Farrelly', [7, 2, 0.7777777777777778]),\n",
       " ('Steven Soderbergh', [10, 3, 0.7692307692307693]),\n",
       " ('Robert Schwentke', [3, 1, 0.75]),\n",
       " ('James Wan', [3, 1, 0.75]),\n",
       " ('Ron Howard', [6, 2, 0.75]),\n",
       " ('Gavin Hood', [3, 1, 0.75]),\n",
       " ('Brian Helgeland', [3, 1, 0.75]),\n",
       " ('Jon M. Chu', [3, 1, 0.75]),\n",
       " ('David Ayer', [3, 1, 0.75]),\n",
       " ('Darren Aronofsky', [3, 1, 0.75]),\n",
       " ('Frank Coraci', [3, 1, 0.75]),\n",
       " ('McG', [3, 1, 0.75]),\n",
       " ('John Lee Hancock', [3, 1, 0.75]),\n",
       " ('Mark Neveldine', [3, 1, 0.75]),\n",
       " ('Brian Taylor', [3, 1, 0.75]),\n",
       " ('Dominic Sena', [3, 1, 0.75]),\n",
       " ('James McTeigue', [3, 1, 0.75]),\n",
       " ('NimrÃ³d Antal', [3, 1, 0.75]),\n",
       " ('Rob Zombie', [3, 1, 0.75]),\n",
       " ('Gore Verbinski', [6, 2, 0.75]),\n",
       " ('Gary Fleder', [3, 1, 0.75]),\n",
       " ('David Frankel', [3, 1, 0.75]),\n",
       " ('Bill Condon', [3, 1, 0.75]),\n",
       " ('David Cronenberg', [3, 1, 0.75]),\n",
       " ('Barry Sonnenfeld', [3, 1, 0.75]),\n",
       " ('Robert Rodriguez', [8, 3, 0.7272727272727273]),\n",
       " ('Lasse HallstrÃ¶m', [5, 2, 0.7142857142857143]),\n",
       " ('Marc Forster', [5, 2, 0.7142857142857143]),\n",
       " ('Kenneth Branagh', [2, 1, 0.6666666666666666]),\n",
       " ('Breck Eisner', [2, 1, 0.6666666666666666]),\n",
       " ('Todd Haynes', [2, 1, 0.6666666666666666]),\n",
       " ('John Wells', [2, 1, 0.6666666666666666]),\n",
       " ('Glenn Ficarra', [2, 1, 0.6666666666666666]),\n",
       " ('John Requa', [2, 1, 0.6666666666666666]),\n",
       " ('Gil Kenan', [2, 1, 0.6666666666666666]),\n",
       " ('Sean Anders', [2, 1, 0.6666666666666666]),\n",
       " ('Scott Cooper', [2, 1, 0.6666666666666666]),\n",
       " ('Jake Kasdan', [2, 1, 0.6666666666666666]),\n",
       " ('Bennett Miller', [2, 1, 0.6666666666666666]),\n",
       " ('Burr Steers', [2, 1, 0.6666666666666666]),\n",
       " ('Jim Sheridan', [2, 1, 0.6666666666666666]),\n",
       " ('Betty Thomas', [2, 1, 0.6666666666666666]),\n",
       " ('David S. Goyer', [2, 1, 0.6666666666666666]),\n",
       " ('Patrick Lussier', [2, 1, 0.6666666666666666]),\n",
       " ('Michael Moore', [2, 1, 0.6666666666666666]),\n",
       " ('Tony Gilroy', [2, 1, 0.6666666666666666]),\n",
       " ('Vicky Jenson', [2, 1, 0.6666666666666666]),\n",
       " ('Mike Newell', [2, 1, 0.6666666666666666]),\n",
       " ('Allen Hughes', [2, 1, 0.6666666666666666]),\n",
       " ('David O. Russell', [2, 1, 0.6666666666666666]),\n",
       " ('Jimmy Hayward', [2, 1, 0.6666666666666666]),\n",
       " ('Michael Lembeck', [2, 1, 0.6666666666666666]),\n",
       " ('John Madden', [2, 1, 0.6666666666666666]),\n",
       " ('Brian Levant', [2, 1, 0.6666666666666666]),\n",
       " ('Neil LaBute', [2, 1, 0.6666666666666666]),\n",
       " ('Tom Dey', [2, 1, 0.6666666666666666]),\n",
       " ('Baz Luhrmann', [2, 1, 0.6666666666666666]),\n",
       " ('Iain Softley', [2, 1, 0.6666666666666666]),\n",
       " ('Rob Cohen', [4, 2, 0.6666666666666666]),\n",
       " ('John Stockwell', [2, 1, 0.6666666666666666]),\n",
       " ('Catherine Hardwicke', [2, 1, 0.6666666666666666]),\n",
       " ('Kathryn Bigelow', [2, 1, 0.6666666666666666]),\n",
       " ('Brad Anderson', [2, 1, 0.6666666666666666]),\n",
       " ('Gus Van Sant', [2, 1, 0.6666666666666666]),\n",
       " ('Andrew Niccol', [2, 1, 0.6666666666666666]),\n",
       " ('Craig Brewer', [2, 1, 0.6666666666666666]),\n",
       " ('Wayne Wang', [2, 1, 0.6666666666666666]),\n",
       " ('John Woo', [2, 1, 0.6666666666666666]),\n",
       " ('Rob Reiner', [2, 1, 0.6666666666666666]),\n",
       " ('Alfonso CuarÃ³n', [2, 1, 0.6666666666666666]),\n",
       " ('Michael Mann', [3, 2, 0.6]),\n",
       " ('Joe Wright', [3, 2, 0.6]),\n",
       " ('Paul Weitz', [3, 2, 0.6]),\n",
       " ('Andrzej Bartkowiak', [3, 2, 0.6]),\n",
       " ('Wes Craven', [3, 2, 0.6]),\n",
       " ('Joel Schumacher', [3, 2, 0.6]),\n",
       " ('Daniel Espinosa', [1, 1, 0.5]),\n",
       " ('Paul McGuigan', [2, 2, 0.5]),\n",
       " ('David Gordon Green', [2, 2, 0.5]),\n",
       " ('Ken Scott', [1, 1, 0.5]),\n",
       " ('Don Hall', [1, 1, 0.5]),\n",
       " ('Evan Goldberg', [1, 1, 0.5]),\n",
       " ('Seth Rogen', [1, 1, 0.5]),\n",
       " ('Scott Frank', [1, 1, 0.5]),\n",
       " ('Daniel Barnz', [1, 1, 0.5]),\n",
       " ('Michael Spierig', [1, 1, 0.5]),\n",
       " ('Peter Spierig', [1, 1, 0.5]),\n",
       " ('Stuart Beattie', [1, 1, 0.5]),\n",
       " ('Ron Clements', [1, 1, 0.5]),\n",
       " ('John Musker', [1, 1, 0.5]),\n",
       " ('Henry Selick', [1, 1, 0.5]),\n",
       " ('Christian Alvart', [1, 1, 0.5]),\n",
       " ('John Hillcoat', [1, 1, 0.5]),\n",
       " ('Karyn Kusama', [1, 1, 0.5]),\n",
       " ('Richard Curtis', [1, 1, 0.5]),\n",
       " ('Jean-Marc VallÃ©e', [1, 1, 0.5]),\n",
       " ('Brad Silberling', [1, 1, 0.5]),\n",
       " ('Alejandro AmenÃ¡bar', [1, 1, 0.5]),\n",
       " ('David Bowers', [2, 2, 0.5]),\n",
       " ('Marcus Nispel', [2, 2, 0.5]),\n",
       " ('Michael J. Bassett', [1, 1, 0.5]),\n",
       " ('Richard Linklater', [2, 2, 0.5]),\n",
       " ('Stewart Hendler', [1, 1, 0.5]),\n",
       " ('Peter Weir', [1, 1, 0.5]),\n",
       " ('Jonathan Lynn', [1, 1, 0.5]),\n",
       " ('Mark Romanek', [1, 1, 0.5]),\n",
       " ('Tom Vaughan', [1, 1, 0.5]),\n",
       " ('Kevin Munroe', [1, 1, 0.5]),\n",
       " ('Jean-Jacques Annaud', [1, 1, 0.5]),\n",
       " ('Peter Howitt', [1, 1, 0.5]),\n",
       " ('John Dahl', [1, 1, 0.5]),\n",
       " ('Bill Paxton', [1, 1, 0.5]),\n",
       " ('Scott Hicks', [1, 1, 0.5]),\n",
       " ('Brian Robbins', [3, 3, 0.5]),\n",
       " ('Frank Darabont', [1, 1, 0.5]),\n",
       " ('Mike Tollin', [1, 1, 0.5]),\n",
       " ('Pete Travis', [1, 1, 0.5]),\n",
       " ('David Wain', [1, 1, 0.5]),\n",
       " ('Jon Avnet', [1, 1, 0.5]),\n",
       " ('GÃ¡bor CsupÃ³', [1, 1, 0.5]),\n",
       " ('Julian Jarrold', [1, 1, 0.5]),\n",
       " ('Rian Johnson', [1, 1, 0.5]),\n",
       " ('Howard Deutch', [1, 1, 0.5]),\n",
       " ('Joshua Michael Stern', [1, 1, 0.5]),\n",
       " ('Simon Wells', [1, 1, 0.5]),\n",
       " ('Joe Nussbaum', [1, 1, 0.5]),\n",
       " ('Rob Bowman', [1, 1, 0.5]),\n",
       " ('Shekhar Kapur', [1, 1, 0.5]),\n",
       " ('Stephen Gaghan', [1, 1, 0.5]),\n",
       " ('Charles Stone III', [1, 1, 0.5]),\n",
       " ('Andrew Dominik', [1, 1, 0.5]),\n",
       " ('Richard Donner', [1, 1, 0.5]),\n",
       " ('Robert Iscove', [1, 1, 0.5]),\n",
       " ('Spike Lee', [1, 1, 0.5]),\n",
       " ('Oliver Hirschbiegel', [1, 1, 0.5]),\n",
       " ('Jay Chandrasekhar', [1, 1, 0.5]),\n",
       " ('Geoffrey Sax', [1, 1, 0.5]),\n",
       " ('Peter Hewitt', [1, 1, 0.5]),\n",
       " ('Mira Nair', [1, 1, 0.5]),\n",
       " ('Bibo Bergeron', [1, 1, 0.5]),\n",
       " ('Eli Roth', [1, 1, 0.5]),\n",
       " ('Cameron Crowe', [2, 3, 0.4]),\n",
       " ('Lee Tamahori', [2, 3, 0.4]),\n",
       " ('David Koepp', [1, 2, 0.3333333333333333]),\n",
       " ('Pierre Morel', [1, 2, 0.3333333333333333]),\n",
       " ('Roger Donaldson', [1, 2, 0.3333333333333333]),\n",
       " ('Paul Thomas Anderson', [1, 2, 0.3333333333333333]),\n",
       " ('Frank Miller', [1, 2, 0.3333333333333333]),\n",
       " ('Robert Redford', [1, 2, 0.3333333333333333]),\n",
       " ('Gregory Hoblit', [1, 2, 0.3333333333333333]),\n",
       " ('Sam Fell', [1, 2, 0.3333333333333333]),\n",
       " ('William Friedkin', [1, 2, 0.3333333333333333]),\n",
       " ('Tom Shadyac', [1, 2, 0.3333333333333333]),\n",
       " ('Uwe Boll', [1, 2, 0.3333333333333333]),\n",
       " ('Barry Levinson', [1, 3, 0.25]),\n",
       " ('Renny Harlin', [1, 4, 0.2]),\n",
       " ('Colin Trevorrow', [1, 0, 0]),\n",
       " ('George Miller', [3, 0, 0]),\n",
       " ('J.J. Abrams', [5, 0, 0]),\n",
       " ('Alejandro GonzÃ¡lez IÃ±Ã¡rritu', [4, 0, 0]),\n",
       " ('Alan Taylor', [2, 0, 0]),\n",
       " ('Ridley Scott', [12, 0, 0]),\n",
       " ('Kyle Balda', [2, 0, 0]),\n",
       " ('Pierre Coffin', [3, 0, 0]),\n",
       " ('Pete Docter', [3, 0, 0]),\n",
       " ('Sam Mendes', [5, 0, 0]),\n",
       " ('Alex Garland', [1, 0, 0]),\n",
       " ('Joss Whedon', [2, 0, 0]),\n",
       " ('Olivier Megaton', [4, 0, 0]),\n",
       " ('Francis Lawrence', [6, 0, 0]),\n",
       " ('Brad Bird', [4, 0, 0]),\n",
       " ('Antoine Fuqua', [8, 0, 0]),\n",
       " ('Brad Peyton', [3, 0, 0]),\n",
       " ('Sam Taylor-Johnson', [1, 0, 0]),\n",
       " ('Adam McKay', [6, 0, 0]),\n",
       " ('Christopher McQuarrie', [2, 0, 0]),\n",
       " ('Seth MacFarlane', [2, 0, 0]),\n",
       " ('Matthew Vaughn', [4, 0, 0]),\n",
       " ('Tom McCarthy', [1, 0, 0]),\n",
       " ('Wes Ball', [2, 0, 0]),\n",
       " ('Neill Blomkamp', [3, 0, 0]),\n",
       " ('Elizabeth Banks', [2, 0, 0]),\n",
       " ('Steven Spielberg', [10, 0, 0]),\n",
       " ('Rob Letterman', [4, 0, 0]),\n",
       " ('Lenny Abrahamson', [1, 0, 0]),\n",
       " ('Peter Sohn', [1, 0, 0]),\n",
       " ('Jaume Collet-Serra', [5, 0, 0]),\n",
       " ('John Crowley', [1, 0, 0]),\n",
       " ('F. Gary Gray', [5, 0, 0]),\n",
       " ('Guy Ritchie', [5, 0, 0]),\n",
       " ('Lee Toland Krieger', [1, 0, 0]),\n",
       " ('Ilya Naishuller', [1, 0, 0]),\n",
       " ('Tim Johnson', [2, 0, 0]),\n",
       " ('Jake Schreier', [1, 0, 0]),\n",
       " ('Nancy Meyers', [5, 0, 0]),\n",
       " ('Baltasar KormÃ¡kur', [3, 0, 0]),\n",
       " ('Ericson Core', [1, 0, 0]),\n",
       " ('Tarsem Singh', [4, 0, 0]),\n",
       " ('Tom Hooper', [3, 0, 0]),\n",
       " ('Denis Villeneuve', [2, 0, 0]),\n",
       " ('Josh Trank', [2, 0, 0]),\n",
       " ('Paul Feig', [3, 0, 0]),\n",
       " ('Aleksander Bach', [1, 0, 0]),\n",
       " ('Ryan Coogler', [1, 0, 0]),\n",
       " ('Steve Martino', [3, 0, 0]),\n",
       " ('Peter Landesman', [1, 0, 0]),\n",
       " ('Jonathan Levine', [3, 0, 0]),\n",
       " ('George Tillman, Jr.', [2, 0, 0]),\n",
       " ('Genndy Tartakovsky', [2, 0, 0]),\n",
       " ('Jessie Nelson', [2, 0, 0]),\n",
       " ('Robert Zemeckis', [6, 0, 0]),\n",
       " ('John Francis Daley', [1, 0, 0]),\n",
       " ('Jonathan M. Goldstein', [1, 0, 0]),\n",
       " ('Joel Edgerton', [1, 0, 0]),\n",
       " ('Mark Osborne', [2, 0, 0]),\n",
       " ('Jocelyn Moorhouse', [1, 0, 0]),\n",
       " ('Ari Sandel', [1, 0, 0]),\n",
       " ('Ciaran Foy', [1, 0, 0]),\n",
       " ('Andy Fickman', [6, 0, 0]),\n",
       " ('Doug Ellin', [1, 0, 0]),\n",
       " ('Jeremy Garelick', [1, 0, 0]),\n",
       " ('Michael Dougherty', [1, 0, 0]),\n",
       " ('John Erick Dowdle', [4, 0, 0]),\n",
       " ('Simon Curtis', [2, 0, 0]),\n",
       " ('Jason Moore', [2, 0, 0]),\n",
       " ('Dean Israelite', [1, 0, 0]),\n",
       " ('Camille Delamarre', [2, 0, 0]),\n",
       " ('Guillermo del Toro', [5, 0, 0]),\n",
       " ('Gregory Jacobs', [1, 0, 0]),\n",
       " ('Gregory Plotkin', [1, 0, 0]),\n",
       " ('Billy Ray', [1, 0, 0]),\n",
       " ('Paul Tibbitt', [1, 0, 0]),\n",
       " ('Boaz Yakin', [4, 0, 0]),\n",
       " ('Anne Fletcher', [4, 0, 0]),\n",
       " ('Leigh Whannell', [1, 0, 0]),\n",
       " ('Nicholas Hytner', [1, 0, 0]),\n",
       " ('Jonathan Demme', [2, 0, 0]),\n",
       " ('David M. Rosenthal', [1, 0, 0]),\n",
       " ('Noah Baumbach', [0, 1, 0]),\n",
       " ('Etan Cohen', [1, 0, 0]),\n",
       " ('Sarah Gavron', [1, 0, 0]),\n",
       " ('Max Joseph', [1, 0, 0]),\n",
       " ('Alejandro Monteverde', [0, 1, 0]),\n",
       " ('Mike Binder', [2, 0, 0]),\n",
       " ('Christopher Nolan', [8, 0, 0]),\n",
       " ('James Gunn', [2, 0, 0]),\n",
       " ('Joe Russo', [2, 0, 0]),\n",
       " ('Anthony Russo', [2, 0, 0]),\n",
       " ('Chad Stahelski', [1, 0, 0]),\n",
       " ('David Leitch', [1, 0, 0]),\n",
       " ('Peter Jackson', [8, 0, 0]),\n",
       " ('Chris Williams', [2, 0, 0]),\n",
       " ('Morten Tyldum', [1, 0, 0]),\n",
       " ('David Fincher', [6, 0, 0]),\n",
       " ('Neil Burger', [3, 0, 0]),\n",
       " ('Bryan Singer', [5, 0, 0]),\n",
       " ('Luc Besson', [2, 0, 0]),\n",
       " ('Jonathan Liebesman', [3, 0, 0]),\n",
       " ('Dan Gilroy', [1, 0, 0]),\n",
       " ('Michael Bay', [8, 0, 0]),\n",
       " ('Matt Reeves', [3, 0, 0]),\n",
       " ('Marc Webb', [3, 0, 0]),\n",
       " ('Doug Liman', [5, 0, 0]),\n",
       " ('Gareth Edwards', [1, 0, 0]),\n",
       " ('Robert Stromberg', [1, 0, 0]),\n",
       " ('Stiles White', [1, 0, 0]),\n",
       " ('Dean DeBlois', [3, 0, 0]),\n",
       " ('Patrick Hughes', [1, 0, 0]),\n",
       " ('Phil Lord', [4, 0, 0]),\n",
       " ('Christopher Miller', [4, 0, 0]),\n",
       " ('Sergey Bodrov', [1, 0, 0]),\n",
       " ('James Marsh', [1, 0, 0]),\n",
       " ('Luke Greenfield', [4, 0, 0]),\n",
       " ('Gary Shore', [1, 0, 0]),\n",
       " ('Simon J. Smith', [2, 0, 0]),\n",
       " ('Eric Darnell', [4, 0, 0]),\n",
       " ('Rob Marshall', [4, 0, 0]),\n",
       " ('Noam Murro', [2, 0, 0]),\n",
       " ('Phillip Noyce', [2, 0, 0]),\n",
       " ('Paul King', [1, 0, 0]),\n",
       " ('Jon Favreau', [5, 0, 0]),\n",
       " ('James DeMonaco', [1, 0, 0]),\n",
       " ('Vic Armstrong', [1, 0, 0]),\n",
       " ('J.C. Chandor', [0, 2, 0]),\n",
       " ('Brett Ratner', [8, 0, 0]),\n",
       " ('Nicholas Stoller', [4, 0, 0]),\n",
       " ('R.J. Cutler', [1, 0, 0]),\n",
       " ('Trish Sie', [1, 0, 0]),\n",
       " ('Josh Boone', [1, 0, 0]),\n",
       " ('Tim Story', [6, 0, 0]),\n",
       " ('JosÃ© Padilha', [1, 0, 0]),\n",
       " ('Wally Pfister', [1, 0, 0]),\n",
       " ('Nick Cassavetes', [4, 0, 0]),\n",
       " ('Rob Minkoff', [4, 0, 0]),\n",
       " ('Carlos Saldanha', [5, 0, 0]),\n",
       " ('George Clooney', [4, 0, 0]),\n",
       " ('Angelina Jolie', [1, 0, 0]),\n",
       " ('Ava DuVernay', [1, 0, 0]),\n",
       " ('Michael Hoffman', [1, 0, 0]),\n",
       " ('Will Gluck', [3, 0, 0]),\n",
       " ('Theodore Melfi', [1, 0, 0]),\n",
       " ('Scott Waugh', [2, 0, 0]),\n",
       " ('Graham Annable', [1, 0, 0]),\n",
       " ('Anthony Stacchi', [2, 0, 0]),\n",
       " ('Tim Burton', [9, 0, 0]),\n",
       " ('Brian A Miller', [1, 0, 0]),\n",
       " ('Steven Quale', [2, 0, 0]),\n",
       " ('Roberts Gannaway', [1, 0, 0]),\n",
       " ('Sam Miller', [1, 0, 0]),\n",
       " ('Shana Feste', [2, 0, 0]),\n",
       " ('David MichÃ´d', [0, 1, 0]),\n",
       " ('Saul Dibb', [0, 1, 0]),\n",
       " ('John R. Leonetti', [1, 0, 0]),\n",
       " ('Tom Gormican', [1, 0, 0]),\n",
       " ('Ben Falcone', [1, 0, 0]),\n",
       " ('Akiva Goldsman', [0, 1, 0]),\n",
       " ('Adam Wingard', [0, 1, 0]),\n",
       " ('Russell Crowe', [0, 1, 0]),\n",
       " ('Miguel Arteta', [2, 0, 0]),\n",
       " ('Steve Pink', [3, 0, 0]),\n",
       " ('Craig Gillespie', [2, 0, 0]),\n",
       " ('Jonathan Glazer', [0, 1, 0]),\n",
       " ('Rob Thomas', [0, 1, 0]),\n",
       " ('Christopher Spencer', [1, 0, 0]),\n",
       " ('Thomas Carter', [3, 0, 0]),\n",
       " ('GrÃ©gory Levasseur', [1, 0, 0]),\n",
       " ('Michael Cuesta', [0, 1, 0]),\n",
       " ('Charles Martin Smith', [2, 0, 0]),\n",
       " ('James Bobin', [2, 0, 0]),\n",
       " ('Randall Wallace', [3, 0, 0]),\n",
       " ('Andrew Erwin', [1, 0, 0]),\n",
       " ('Jon Erwin', [1, 0, 0]),\n",
       " ('Dave Green', [1, 0, 0]),\n",
       " ('Rupert Wyatt', [2, 0, 0]),\n",
       " ('Don McKellar', [0, 1, 0]),\n",
       " ('Harold Cronk', [1, 0, 0]),\n",
       " ('Matt Bettinelli-Olpin', [1, 0, 0]),\n",
       " ('Tyler Gillett', [1, 0, 0]),\n",
       " ('James Cameron', [2, 0, 0]),\n",
       " ('Patrick Tatopoulos', [1, 0, 0]),\n",
       " ('David Yates', [4, 0, 0]),\n",
       " ('Bob Peterson', [1, 0, 0]),\n",
       " ('Zack Snyder', [6, 0, 0]),\n",
       " ('Roland Emmerich', [5, 0, 0]),\n",
       " ('Shane Acker', [1, 0, 0]),\n",
       " ('Ruben Fleischer', [3, 0, 0]),\n",
       " ('Chris Weitz', [3, 0, 0]),\n",
       " ('Stephen Sommers', [3, 0, 0]),\n",
       " ('Richard Kelly', [1, 0, 0]),\n",
       " ('Sam Raimi', [6, 0, 0]),\n",
       " ('Alex Proyas', [2, 0, 0]),\n",
       " ('Duncan Jones', [2, 0, 0]),\n",
       " ('Hoyt Yeatman', [1, 0, 0]),\n",
       " ('Ricky Gervais', [1, 0, 0]),\n",
       " ('Matthew Robinson', [1, 0, 0]),\n",
       " ('P.J. Hogan', [2, 0, 0]),\n",
       " ('Jaco Van Dormael', [0, 1, 0]),\n",
       " ('Peter Billingsley', [1, 0, 0]),\n",
       " ('Conrad Vernon', [3, 0, 0]),\n",
       " ('Nora Ephron', [2, 0, 0]),\n",
       " ('Atom Egoyan', [0, 1, 0]),\n",
       " ('Phil Traill', [1, 0, 0]),\n",
       " ('Gary Winick', [2, 0, 0]),\n",
       " ('Lee Daniels', [2, 0, 0]),\n",
       " ('Kevin Macdonald', [3, 0, 0]),\n",
       " ('John Hamburg', [2, 0, 0]),\n",
       " ('Brandon Camp', [1, 0, 0]),\n",
       " ('Kevin Greutert', [2, 0, 0]),\n",
       " ('Ethan Coen', [4, 0, 0]),\n",
       " ('Joel Coen', [6, 0, 0]),\n",
       " ('David Twohy', [4, 0, 0]),\n",
       " ('Rajkumar Hirani', [1, 0, 0]),\n",
       " ('Grant Heslov', [1, 0, 0]),\n",
       " ('Todd Graff', [0, 1, 0]),\n",
       " ('Jorge Blanco', [1, 0, 0]),\n",
       " ('Javier Abad', [1, 0, 0]),\n",
       " ('Marcos MartÃ\\xadnez', [1, 0, 0]),\n",
       " ('Harold Ramis', [2, 0, 0]),\n",
       " ('Walt Becker', [2, 0, 0]),\n",
       " ('Troy Duffy', [1, 0, 0]),\n",
       " ('Werner Herzog', [0, 2, 0]),\n",
       " ('Lone Scherfig', [2, 0, 0]),\n",
       " ('Jason Reitman', [4, 0, 0]),\n",
       " ('Tom Tykwer', [3, 0, 0]),\n",
       " ('Peter Chelsom', [3, 0, 0]),\n",
       " ('John Schultz', [1, 0, 0]),\n",
       " ('Olatunde Osunsanmi', [1, 0, 0]),\n",
       " ('Brian Koppelman', [0, 2, 0]),\n",
       " ('David Levien', [0, 2, 0]),\n",
       " ('Jane Campion', [0, 1, 0]),\n",
       " ('Greg Mottola', [3, 0, 0]),\n",
       " ('Mike Judge', [1, 0, 0]),\n",
       " ('Donald Petrie', [4, 0, 0]),\n",
       " ('Daniel Barber', [1, 0, 0]),\n",
       " ('Jonathan Mostow', [3, 0, 0]),\n",
       " ('Thor Freudenthal', [3, 0, 0]),\n",
       " ('Steve Shill', [1, 0, 0]),\n",
       " ('Jonas Elmer', [1, 0, 0]),\n",
       " ('Derrick Borte', [0, 1, 0]),\n",
       " ('Marc Lawrence', [3, 0, 0]),\n",
       " ('Toby Wilkins', [1, 0, 0]),\n",
       " ('Bruce Beresford', [0, 2, 0]),\n",
       " ('Chris Renaud', [3, 0, 0]),\n",
       " ('Sylvester Stallone', [3, 0, 0]),\n",
       " ('Chris Sanders', [3, 0, 0]),\n",
       " ('Joseph Kosinski', [2, 0, 0]),\n",
       " ('Nathan Greno', [1, 0, 0]),\n",
       " ('Byron Howard', [2, 0, 0]),\n",
       " ('Lee Unkrich', [3, 0, 0]),\n",
       " ('Michael Apted', [2, 0, 0]),\n",
       " ('Florian Henckel von Donnersmarck', [1, 0, 0]),\n",
       " ('Louis Leterrier', [6, 0, 0]),\n",
       " ('Jon Turteltaub', [5, 0, 0]),\n",
       " ('Edgar Wright', [0, 2, 0]),\n",
       " ('Mike Mitchell', [3, 0, 0]),\n",
       " ('Joe Carnahan', [3, 0, 0]),\n",
       " ('Ethan Maniquis', [1, 0, 0]),\n",
       " ('Albert Hughes', [2, 0, 0]),\n",
       " ('Ben Affleck', [3, 0, 0]),\n",
       " ('David Slade', [2, 0, 0]),\n",
       " ('Tom McGrath', [4, 0, 0]),\n",
       " ('Edward Zwick', [4, 0, 0]),\n",
       " ('Miguel Sapochnik', [0, 1, 0]),\n",
       " ('James Mangold', [5, 0, 0]),\n",
       " ('Ryan Murphy', [1, 0, 0]),\n",
       " ('Andy Tennant', [4, 0, 0]),\n",
       " ('Anand Tucker', [1, 0, 0]),\n",
       " ('Alan Poul', [1, 0, 0]),\n",
       " ('Josh Gordon', [1, 0, 0]),\n",
       " ('Will Speck', [1, 0, 0]),\n",
       " ('Floria Sigismondi', [0, 1, 0]),\n",
       " ('Garry Marshall', [4, 0, 0]),\n",
       " ('Troy Nixey', [1, 0, 0]),\n",
       " ('Harald Zwart', [3, 0, 0]),\n",
       " ('Roman Polanski', [3, 0, 0]),\n",
       " ('Paul Haggis', [3, 0, 0]),\n",
       " ('Samuel Bayer', [1, 0, 0]),\n",
       " ('Scott Stewart', [2, 0, 0]),\n",
       " ('Michael Patrick King', [2, 0, 0]),\n",
       " ('Susanna White', [1, 0, 0]),\n",
       " ('John Luessenhop', [2, 0, 0]),\n",
       " ('Steve Antin', [1, 0, 0]),\n",
       " ('Nanette Burstein', [1, 0, 0]),\n",
       " ('Kevin Smith', [4, 0, 0]),\n",
       " ('Greg Berlanti', [1, 0, 0]),\n",
       " ('Neil Marshall', [0, 2, 0]),\n",
       " ('John Curran', [0, 1, 0]),\n",
       " ('Alexandre Aja', [3, 0, 0]),\n",
       " ('Roger Michell', [2, 0, 0]),\n",
       " ('Tony Goldwyn', [0, 1, 0]),\n",
       " ('Colin Strause', [1, 0, 0]),\n",
       " ('Greg Strause', [1, 0, 0]),\n",
       " ('Jorma Taccone', [0, 1, 0]),\n",
       " ('James L. Brooks', [0, 2, 0]),\n",
       " ('Jim Field Smith', [1, 0, 0]),\n",
       " ('William Monahan', [0, 1, 0]),\n",
       " ('Oliver Stone', [5, 0, 0]),\n",
       " ('Dan Rush', [0, 1, 0]),\n",
       " ('Anthony Bell', [1, 0, 0]),\n",
       " ('Ben Gluck', [1, 0, 0]),\n",
       " ('Eric Brevig', [2, 0, 0]),\n",
       " ('Richard J. Lewis', [0, 1, 0]),\n",
       " ('Roger Kumble', [2, 0, 0]),\n",
       " ('William Dear', [0, 1, 0]),\n",
       " ('Sngmoo Lee', [0, 1, 0]),\n",
       " ('John Landis', [0, 1, 0]),\n",
       " ('Tyler Perry', [3, 0, 0]),\n",
       " ('Vipul Amrutlal Shah', [0, 1, 0]),\n",
       " ('David Lynch', [1, 0, 0]),\n",
       " ('David Silverman', [2, 0, 0]),\n",
       " ('Andrew Adamson', [4, 0, 0]),\n",
       " ('Sharon Maguire', [1, 0, 0]),\n",
       " ('Gary Trousdale', [1, 0, 0]),\n",
       " ('Kirk Wise', [1, 0, 0]),\n",
       " ('J.B. Rogers', [1, 0, 0]),\n",
       " ('Ted Demme', [1, 0, 0]),\n",
       " ('Ben Stiller', [3, 0, 0]),\n",
       " ('Joel Gallen', [1, 0, 0]),\n",
       " ('Keenen Ivory Wayans', [4, 0, 0]),\n",
       " ('John A. Davis', [2, 0, 0]),\n",
       " ('Lawrence Guterman', [1, 0, 0]),\n",
       " ('Chris Nahon', [1, 0, 0]),\n",
       " ('Hironobu Sakaguchi', [0, 1, 0]),\n",
       " ('Motonori Sakakibara', [0, 1, 0]),\n",
       " ('Michael Cristofer', [0, 1, 0]),\n",
       " ('Victor Salva', [2, 0, 0]),\n",
       " ('Rod Lurie', [0, 2, 0]),\n",
       " ('Jerry Zucker', [1, 0, 0]),\n",
       " ('Robert Altman', [1, 0, 0]),\n",
       " ('James Isaac', [1, 0, 0]),\n",
       " ('Stephen Herek', [0, 1, 0]),\n",
       " ('Simon Wincer', [1, 0, 0]),\n",
       " ('Luis Mandoki', [0, 2, 0]),\n",
       " ('Daniel Sackheim', [0, 1, 0]),\n",
       " ('John Herzfeld', [0, 1, 0]),\n",
       " ('Ivan Reitman', [2, 0, 0]),\n",
       " ('Frank Oz', [2, 0, 0]),\n",
       " ('Dennie Gordon', [1, 0, 0]),\n",
       " ('John Boorman', [1, 0, 0]),\n",
       " (\"Pat O'Connor\", [1, 0, 0]),\n",
       " ('Jesse Dylan', [3, 0, 0]),\n",
       " ('Gregory Poirier', [1, 0, 0]),\n",
       " ('Demian Lichtenstein', [0, 1, 0]),\n",
       " ('John Carpenter', [0, 1, 0]),\n",
       " ('Penny Marshall', [0, 1, 0]),\n",
       " ('Brendan Malloy', [0, 1, 0]),\n",
       " ('Emmett Malloy', [0, 1, 0]),\n",
       " ('Les Mayfield', [0, 1, 0]),\n",
       " ('Harold Becker', [0, 1, 0]),\n",
       " ('Tim Hill', [3, 0, 0]),\n",
       " ('Rob Pritts', [1, 0, 0]),\n",
       " ('Joe Johnston', [3, 0, 0]),\n",
       " ('Peter Hyams', [0, 2, 0]),\n",
       " ('Peter Bogdanovich', [0, 1, 0]),\n",
       " ('Francine McDougall', [1, 0, 0]),\n",
       " ('Ernest R. Dickerson', [0, 1, 0]),\n",
       " ('DJ Pooh', [1, 0, 0]),\n",
       " ('John Singleton', [5, 0, 0]),\n",
       " ('Andrew Stanton', [3, 0, 0]),\n",
       " ('John Stevenson', [1, 0, 0]),\n",
       " ('Phyllida Lloyd', [2, 0, 0]),\n",
       " ('Timur Bekmambetov', [2, 0, 0]),\n",
       " ('Loveleen Tandan', [1, 0, 0]),\n",
       " ('Mark Herman', [1, 0, 0]),\n",
       " ('Scott Derrickson', [2, 0, 0]),\n",
       " ('Gabriele Muccino', [2, 0, 0]),\n",
       " ('Jeff Wadlow', [1, 0, 0]),\n",
       " ('Lexi Alexander', [0, 1, 0]),\n",
       " ('Peter Segal', [6, 0, 0]),\n",
       " ('Mathieu Kassovitz', [2, 0, 0]),\n",
       " ('Martin McDonagh', [2, 0, 0]),\n",
       " ('Jon Hurwitz', [2, 0, 0]),\n",
       " ('Hayden Schlossberg', [2, 0, 0]),\n",
       " ('Peter Sollett', [1, 0, 0]),\n",
       " ('Seth Gordon', [3, 0, 0]),\n",
       " ('Fred Wolf', [1, 0, 0]),\n",
       " ('David Hackl', [1, 0, 0]),\n",
       " ('Marco Schnabel', [0, 1, 0]),\n",
       " ('Woody Allen', [3, 0, 0]),\n",
       " ('Bryan Bertino', [1, 0, 0]),\n",
       " ('Howard McCain', [0, 1, 0]),\n",
       " ('Chris Carter', [1, 0, 0]),\n",
       " ('John Patrick Shanley', [1, 0, 0]),\n",
       " ('Paul Weiland', [1, 0, 0]),\n",
       " ('Marcel Langenegger', [0, 1, 0]),\n",
       " ('David Moreau', [1, 0, 0]),\n",
       " ('Xavier Palud', [1, 0, 0]),\n",
       " ('Oxide Pang Chun', [0, 1, 0]),\n",
       " ('Danny Pang', [0, 1, 0]),\n",
       " ('Peter Cattaneo', [0, 1, 0]),\n",
       " ('Robert Stevenhagen', [0, 1, 0]),\n",
       " ('Craig Mazin', [0, 1, 0]),\n",
       " ('Gina Prince-Bythewood', [2, 0, 0]),\n",
       " ('Raja Gosnell', [6, 0, 0]),\n",
       " ('Michael McCullers', [1, 0, 0]),\n",
       " ('Kirk De Micco', [2, 0, 0]),\n",
       " ('RyÃ»hei Kitamura', [0, 1, 0]),\n",
       " ('Simon Hunter', [0, 1, 0]),\n",
       " ('Jennifer Flackett', [1, 0, 0]),\n",
       " ('Mark Levin', [1, 0, 0]),\n",
       " ('Anthony Leondis', [1, 0, 0]),\n",
       " ('Robert B. Weide', [0, 1, 0]),\n",
       " ('Malcolm D. Lee', [4, 0, 0]),\n",
       " ('Nicolas Winding Refn', [1, 0, 0]),\n",
       " ('Jennifer Yuh', [1, 0, 0]),\n",
       " ('John Lasseter', [2, 0, 0]),\n",
       " ('Brad Lewis', [1, 0, 0]),\n",
       " ('Terrence Malick', [1, 0, 0]),\n",
       " ('Michel Hazanavicius', [1, 0, 0]),\n",
       " ('Brad Furman', [2, 0, 0]),\n",
       " ('Gary McKendry', [0, 1, 0]),\n",
       " ('Mikael HÃ¥fstrÃ¶m', [4, 0, 0]),\n",
       " ('Stephen Anderson', [0, 1, 0]),\n",
       " ('George Nolfi', [1, 0, 0]),\n",
       " ('Tom Hanks', [1, 0, 0]),\n",
       " ('Mark Mylod', [1, 0, 0]),\n",
       " ('Chris Gorak', [1, 0, 0]),\n",
       " ('Tate Taylor', [1, 0, 0]),\n",
       " ('Christian E. Christiansen', [1, 0, 0]),\n",
       " ('Chris Miller', [2, 0, 0]),\n",
       " ('Michel Gondry', [2, 0, 0]),\n",
       " ('Oliver Parker', [1, 0, 0]),\n",
       " ('Todd Strauss-Schulson', [1, 0, 0]),\n",
       " ('Matthijs van Heijningen Jr.', [0, 1, 0]),\n",
       " ('Gonzalo LÃ³pez-Gallego', [1, 0, 0]),\n",
       " ('Joe Cornish', [0, 1, 0]),\n",
       " ('Stephen Daldry', [3, 0, 0]),\n",
       " ('Kelly Asbury', [3, 0, 0]),\n",
       " ('Alexander Payne', [4, 0, 0]),\n",
       " ('Bruce Robinson', [0, 1, 0]),\n",
       " ('John Michael McDonagh', [1, 0, 0]),\n",
       " ('Jesse Peretz', [1, 0, 0]),\n",
       " ('Henry Joost', [2, 0, 0]),\n",
       " ('Ariel Schulman', [2, 0, 0]),\n",
       " ('Michael Dowse', [0, 2, 0]),\n",
       " ('Jason Winer', [1, 0, 0]),\n",
       " ('Alister Grierson', [1, 0, 0]),\n",
       " ('Douglas McGrath', [1, 0, 0]),\n",
       " ('Sean McNamara', [1, 0, 0]),\n",
       " ('Mike Disa', [0, 1, 0]),\n",
       " ('John Whitesell', [2, 0, 0]),\n",
       " ('Benny Chan', [1, 0, 0]),\n",
       " ('Salim Akil', [2, 0, 0]),\n",
       " ('Thomas Bezucha', [0, 1, 0]),\n",
       " ('Paul Johansson', [0, 1, 0]),\n",
       " ('Paolo Sorrentino', [0, 1, 0]),\n",
       " ('Rodrigo GarcÃ\\xada', [0, 1, 0]),\n",
       " ('Mark Duplass', [0, 1, 0]),\n",
       " ('Jay Duplass', [0, 1, 0]),\n",
       " ('Chris Wedge', [3, 0, 0]),\n",
       " ('George Lucas', [2, 0, 0]),\n",
       " ('Corey Yuen Kwai', [1, 0, 0]),\n",
       " ('Curtis Hanson', [1, 0, 0]),\n",
       " ('Steven Brill', [3, 0, 0]),\n",
       " ('Joel Zwick', [1, 0, 0]),\n",
       " ('Andrew Davis', [0, 2, 0]),\n",
       " ('Stuart Baird', [1, 0, 0]),\n",
       " ('Kurt Wimmer', [0, 1, 0]),\n",
       " ('Steve Beck', [1, 0, 0]),\n",
       " ('Lorna Cook', [1, 0, 0]),\n",
       " ('Jim Gillespie', [0, 1, 0]),\n",
       " ('Chuck Russell', [1, 0, 0]),\n",
       " ('Jeff Tremaine', [3, 0, 0]),\n",
       " ('Julie Taymor', [1, 0, 0]),\n",
       " ('Barbet Schroeder', [1, 0, 0]),\n",
       " ('Spike Jonze', [2, 0, 0]),\n",
       " ('Ron Shelton', [0, 1, 0]),\n",
       " ('Walter Hill', [0, 3, 0]),\n",
       " ('Adrian Lyne', [1, 0, 0]),\n",
       " ('Michael Rymer', [1, 0, 0]),\n",
       " ('Marcus Raboy', [1, 0, 0]),\n",
       " ('Robin Budd', [1, 0, 0]),\n",
       " ('Donovan Cook', [1, 0, 0]),\n",
       " ('Dewey Nicks', [0, 1, 0]),\n",
       " ('Brian De Palma', [0, 2, 0]),\n",
       " ('Michael Caton-Jones', [0, 2, 0]),\n",
       " ('Carl Franklin', [2, 0, 0]),\n",
       " ('Mark Pellington', [1, 0, 0]),\n",
       " ('Jonathan Frakes', [1, 0, 0]),\n",
       " ('Rick Rosenthal', [1, 0, 0]),\n",
       " ('Denzel Washington', [2, 0, 0]),\n",
       " ('Mort Nathan', [0, 1, 0]),\n",
       " ('Tamra Davis', [1, 0, 0]),\n",
       " ('Ron Underwood', [0, 1, 0]),\n",
       " ('Reginald Hudlin', [0, 2, 0]),\n",
       " ('Kevin Bray', [1, 0, 0]),\n",
       " ('William Malone', [0, 1, 0]),\n",
       " ('Paul Schrader', [0, 1, 0]),\n",
       " ('MÃ¥ns MÃ¥rlind', [1, 0, 0]),\n",
       " ('BjÃ¶rn Stein', [1, 0, 0]),\n",
       " ('Mark Andrews', [1, 0, 0]),\n",
       " ('Steve Purcell', [1, 0, 0]),\n",
       " ('Brenda Chapman', [1, 0, 0]),\n",
       " ('Rupert Sanders', [1, 0, 0]),\n",
       " ('Ang Lee', [3, 0, 0]),\n",
       " ('Mike Thurmeier', [1, 0, 0]),\n",
       " ('Juan Antonio Bayona', [1, 0, 0]),\n",
       " ('Rich Moore', [1, 0, 0]),\n",
       " ('Gary Ross', [2, 0, 0]),\n",
       " ('Len Wiseman', [4, 0, 0]),\n",
       " ('Stephen Chbosky', [1, 0, 0]),\n",
       " ('Drew Goddard', [1, 0, 0]),\n",
       " ('Peter Ramsey', [1, 0, 0]),\n",
       " ('Michael Sucsy', [1, 0, 0]),\n",
       " ('Juan Diego Solanas', [0, 1, 0]),\n",
       " ('Scott Speer', [1, 0, 0]),\n",
       " ('Mike McCoy', [1, 0, 0]),\n",
       " ('Kirk Jones', [2, 0, 0]),\n",
       " ('Larry Charles', [2, 0, 0]),\n",
       " ('Nima Nourizadeh', [1, 0, 0]),\n",
       " ('Peter Lord', [2, 0, 0]),\n",
       " ('Jeff Newitt', [1, 0, 0]),\n",
       " ('Stephen St. Leger', [1, 0, 0]),\n",
       " ('James Mather', [1, 0, 0]),\n",
       " ('James Watkins', [1, 0, 0]),\n",
       " ('Asger Leth', [1, 0, 0]),\n",
       " ('Henry Alex Rubin', [0, 1, 0]),\n",
       " ('Alex Kurtzman', [0, 1, 0]),\n",
       " ('John Gulager', [1, 0, 0]),\n",
       " ('Ole Bornedal', [1, 0, 0]),\n",
       " ('Mabrouk El Mechri', [0, 1, 0]),\n",
       " ('Nicholas Jarecki', [1, 0, 0]),\n",
       " ('Dan Bradley', [0, 1, 0]),\n",
       " ('Julie Anne Robinson', [0, 1, 0]),\n",
       " ('Dustin Hoffman', [1, 0, 0]),\n",
       " ('Chris Butler', [1, 0, 0]),\n",
       " ('Dean Wright', [0, 1, 0]),\n",
       " ('Anthony Hemingway', [0, 1, 0]),\n",
       " ('Josh Schwartz', [0, 1, 0]),\n",
       " ('Brian Klugman', [1, 0, 0]),\n",
       " ('Lee Sternthal', [1, 0, 0]),\n",
       " ('Walter Salles', [0, 2, 0]),\n",
       " ('David Barrett', [0, 1, 0]),\n",
       " ('Todd Lincoln ', [0, 1, 0]),\n",
       " ('Dan Cutforth', [1, 0, 0]),\n",
       " ('Jane Lipsitz', [1, 0, 0]),\n",
       " ('Mark Steven Johnson', [2, 0, 0]),\n",
       " ('Stephen Norrington', [1, 0, 0]),\n",
       " ('Steve Trenbirth', [1, 0, 0]),\n",
       " ('Terry Zwigoff', [1, 0, 0]),\n",
       " ('David Zucker', [2, 0, 0]),\n",
       " ('Bille Woodruff', [2, 0, 0]),\n",
       " ('Jan de Bont', [1, 0, 0]),\n",
       " ('Rob Schmidt', [1, 0, 0]),\n",
       " ('Jon Amiel', [1, 0, 0]),\n",
       " ('Clark Johnson', [2, 0, 0]),\n",
       " ('Charles Herman-Wurmfeld', [1, 0, 0]),\n",
       " ('Anthony Minghella', [1, 0, 0]),\n",
       " ('Ronny Yu', [1, 0, 0]),\n",
       " ('Joe Dante', [0, 1, 0]),\n",
       " ('John McTiernan', [0, 1, 0]),\n",
       " ('Kevin Costner', [1, 0, 0]),\n",
       " ('Jim Fall', [1, 0, 0]),\n",
       " ('Lawrence Kasdan', [1, 0, 0]),\n",
       " ('Patty Jenkins', [1, 0, 0]),\n",
       " ('Martin Brest', [0, 1, 0]),\n",
       " ('Ronald F. Maxwell', [0, 1, 0]),\n",
       " ('Troy Miller', [1, 0, 0]),\n",
       " ('Alan Parker', [0, 1, 0]),\n",
       " ('Chris Koch', [0, 1, 0]),\n",
       " ('David Mackenzie', [0, 1, 0]),\n",
       " ('FranÃ§ois Ozon', [1, 0, 0]),\n",
       " ('Christopher Guest', [1, 0, 0]),\n",
       " ('Nigel Cole', [2, 0, 0]),\n",
       " ('James Cox', [0, 1, 0]),\n",
       " ('Christine Jeffs', [1, 0, 0]),\n",
       " ('Chris Buck', [2, 0, 0]),\n",
       " ('Jennifer Lee', [1, 0, 0]),\n",
       " ('Shane Black', [1, 0, 0]),\n",
       " ('Steve McQueen', [1, 0, 0]),\n",
       " ('Dan Scanlon', [1, 0, 0]),\n",
       " ('Tommy Wirkola', [1, 0, 0]),\n",
       " ('Carl Rinsch', [0, 1, 0]),\n",
       " ('Klay Hall', [1, 0, 0]),\n",
       " ('Harmony Korine', [1, 0, 0]),\n",
       " ('Fede Alvarez', [1, 0, 0]),\n",
       " ('Derek Cianfrance', [1, 0, 0]),\n",
       " ('Kimberly Peirce', [1, 0, 0]),\n",
       " ('John Carney', [1, 0, 0]),\n",
       " ('Justin Zackham', [0, 1, 0]),\n",
       " ('Taylor Hackford', [2, 0, 0]),\n",
       " ('Mike Flanagan', [1, 0, 0]),\n",
       " ('David Soren', [1, 0, 0]),\n",
       " ('Steven Knight', [0, 1, 0]),\n",
       " ('Andy Muschietti', [1, 0, 0]),\n",
       " ('Rusty Cundieff', [1, 0, 0]),\n",
       " ('James Duffy', [1, 0, 0]),\n",
       " ('Griffin Dunne', [1, 0, 0]),\n",
       " ('Patrik Forsberg', [1, 0, 0]),\n",
       " ('Will Graham', [1, 0, 0]),\n",
       " ('Jonathan van Tulleken', [1, 0, 0]),\n",
       " ('Scott Moore', [1, 0, 0]),\n",
       " ('Jon Lucas', [1, 0, 0]),\n",
       " ('Callan Brunker', [1, 0, 0]),\n",
       " ('Amma Asante', [1, 0, 0]),\n",
       " ('Sofia Coppola', [2, 0, 0]),\n",
       " ('Dito Montiel', [0, 1, 0]),\n",
       " ('Cody Cameron', [1, 0, 0]),\n",
       " ('Kris Pearn', [1, 0, 0]),\n",
       " ('Giuseppe Tornatore', [1, 0, 0]),\n",
       " ('Don Scardino', [0, 1, 0]),\n",
       " ('Jeff Nichols', [1, 0, 0]),\n",
       " ('Jonathan Teplitzky', [1, 0, 0]),\n",
       " ('Neil Nightingale', [1, 0, 0]),\n",
       " ('Barry Cook', [1, 0, 0]),\n",
       " ('Scott Walker', [0, 1, 0]),\n",
       " ('Guillaume Canet', [0, 1, 0]),\n",
       " ('Ric Roman Waugh', [1, 0, 0]),\n",
       " ('Keanu Reeves', [0, 1, 0]),\n",
       " ('David E. Talbert', [1, 0, 0]),\n",
       " ('Christopher B. Landon', [1, 0, 0]),\n",
       " ('Benson Lee', [0, 1, 0]),\n",
       " ('Anthony Silverston', [1, 0, 0]),\n",
       " ('Kasi Lemmons', [0, 1, 0]),\n",
       " ('Dan St. Pierre', [0, 1, 0]),\n",
       " ('Zal Batmanglij', [0, 1, 0]),\n",
       " ('Ed Gass-Donnelly', [1, 0, 0]),\n",
       " ('Justin Chadwick', [0, 1, 0]),\n",
       " ('Stephen Frears', [3, 0, 0]),\n",
       " ('Courtney Solomon', [0, 2, 0]),\n",
       " ('Fyodor Bondarchuk', [1, 0, 0]),\n",
       " ('Garth Jennings', [1, 0, 0]),\n",
       " ('Mark Dindal', [2, 0, 0]),\n",
       " ('Mike Johnson', [1, 0, 0]),\n",
       " ('Steve Box', [1, 0, 0]),\n",
       " ('Nick Park', [2, 0, 0]),\n",
       " ('John Maybury', [0, 1, 0]),\n",
       " ('Angela Robinson', [1, 0, 0]),\n",
       " ('Cory Edwards', [1, 0, 0]),\n",
       " ('Todd Edwards', [1, 0, 0]),\n",
       " ('Tony Leech', [1, 0, 0]),\n",
       " ('John Polson', [1, 0, 0]),\n",
       " ('Sydney Pollack', [1, 0, 0]),\n",
       " ('Terry Gilliam', [1, 0, 0]),\n",
       " ('Florent-Emilio Siri', [1, 0, 0]),\n",
       " ('Frederik Du Chau', [1, 0, 0]),\n",
       " ('Andrew Douglas', [1, 0, 0]),\n",
       " ('Dean Parisot', [1, 0, 0]),\n",
       " ('Kevin Rodney Sullivan', [2, 0, 0]),\n",
       " ('Jean-FranÃ§ois Richet', [1, 0, 0]),\n",
       " ('Jim Jarmusch', [1, 0, 0]),\n",
       " ('George A. Romero', [1, 0, 0]),\n",
       " ('Rupert Wainwright', [1, 0, 0]),\n",
       " ('Clare Kilner', [1, 0, 0]),\n",
       " ('Richard Shepard', [1, 0, 0]),\n",
       " ('Gary Chapman', [0, 1, 0]),\n",
       " ('Fernando Meirelles', [1, 0, 0]),\n",
       " ('Tommy Lee Jones', [0, 1, 0]),\n",
       " ('Danny Cannon', [0, 1, 0]),\n",
       " ('Liev Schreiber', [0, 1, 0]),\n",
       " ('Stephen Kay', [1, 0, 0]),\n",
       " ('Bruce Hunt', [0, 1, 0]),\n",
       " ('Niki Caro', [0, 1, 0]),\n",
       " ('Joe Ranft', [1, 0, 0]),\n",
       " ('Karey Kirkpatrick', [1, 0, 0]),\n",
       " ('Frank Marshall', [1, 0, 0]),\n",
       " ('James Wong', [2, 0, 0]),\n",
       " ('Christophe Gans', [1, 0, 0]),\n",
       " (\"Steve 'Spaz' Williams\", [0, 1, 0]),\n",
       " ('Stefen Fangmeier', [1, 0, 0]),\n",
       " ('Alejandro Agresti', [1, 0, 0]),\n",
       " ('Mel Gibson', [2, 0, 0]),\n",
       " ('Robert De Niro', [0, 1, 0]),\n",
       " ('Kevin Reynolds', [0, 1, 0]),\n",
       " (\"Matthew O'Callaghan\", [1, 0, 0]),\n",
       " ('Steven Zaillian', [0, 1, 0]),\n",
       " ('Joe Roth', [0, 1, 0]),\n",
       " ('Darren Lynn Bousman', [2, 0, 0]),\n",
       " ('Jared Hess', [1, 0, 0]),\n",
       " ('Wolfgang Petersen', [3, 0, 0]),\n",
       " ('Steven Shainberg', [0, 1, 0]),\n",
       " ('Jonathan Dayton', [1, 0, 0]),\n",
       " ('Valerie Faris', [1, 0, 0]),\n",
       " ('Greg Coolidge', [1, 0, 0]),\n",
       " ('Nick Hurran', [0, 2, 0]),\n",
       " ('Roger Allers', [1, 0, 0]),\n",
       " ('Jill Culton', [1, 0, 0]),\n",
       " ('Steve Oedekerk', [1, 0, 0]),\n",
       " ('Chris Noonan', [1, 0, 0]),\n",
       " ('Jim Sonzero', [0, 1, 0]),\n",
       " ('John Bonito', [1, 0, 0]),\n",
       " ('Liz Friedlander', [1, 0, 0]),\n",
       " ('Elizabeth Allen Rosenbaum', [1, 0, 0]),\n",
       " ('Richard Eyre', [1, 0, 0]),\n",
       " ('Tony Bill', [0, 1, 0]),\n",
       " ('Wayne Kramer', [0, 1, 0]),\n",
       " ('Susannah Grant', [0, 1, 0]),\n",
       " ('Takashi Shimizu', [2, 0, 0]),\n",
       " ('Richard Loncraine', [2, 0, 0]),\n",
       " ('Liam Lynch', [0, 1, 0]),\n",
       " ('Sanjay Gadhvi', [1, 0, 0]),\n",
       " ('Glen Morgan', [1, 0, 0]),\n",
       " ('Phil Joanou', [1, 0, 0]),\n",
       " ('Rachid Bouchareb', [1, 0, 0]),\n",
       " ('William Brent Bell', [1, 0, 0]),\n",
       " ('Asif Kapadia', [0, 1, 0]),\n",
       " ('Doug Atchison', [1, 0, 0]),\n",
       " ('Beeban Kidron', [0, 1, 0]),\n",
       " ('Eric Bress', [1, 0, 0]),\n",
       " ('J. Mackye Gruber', [1, 0, 0]),\n",
       " ('Alexander Witt', [1, 0, 0]),\n",
       " ('Kerry Conran', [0, 1, 0]),\n",
       " ('Stephen Hillenburg', [1, 0, 0]),\n",
       " (\"Tommy O'Haver\", [0, 1, 0]),\n",
       " ('Mark Rosman', [1, 0, 0]),\n",
       " ('Rawson Marshall Thurber', [1, 0, 0]),\n",
       " ('Danny Leiner', [2, 0, 0]),\n",
       " ('Jeff Schaffer', [0, 1, 0]),\n",
       " ('Mike Nichols', [2, 0, 0]),\n",
       " ('Jonathan Hensleigh', [1, 0, 0]),\n",
       " ('Pitof', [0, 1, 0]),\n",
       " ('Don Mancini', [1, 0, 0]),\n",
       " ('Charles Shyer', [0, 1, 0]),\n",
       " ('Will Finn', [0, 1, 0]),\n",
       " ('John Sanford', [0, 1, 0]),\n",
       " ('Terry George', [1, 0, 0]),\n",
       " ('Philip Kaufman', [0, 2, 0]),\n",
       " ('Trey Parker', [1, 0, 0]),\n",
       " ('Sara Sugarman', [1, 0, 0]),\n",
       " ('Guy Ferland', [1, 0, 0]),\n",
       " ('Joseph Ruben', [1, 0, 0]),\n",
       " ('Nick Hamm', [1, 0, 0]),\n",
       " ('Paul Abascal', [0, 1, 0]),\n",
       " ('Joseph Kahn', [1, 0, 0]),\n",
       " (\"Gavin O'Connor\", [1, 0, 0]),\n",
       " ('E. Elias Merhige', [0, 1, 0]),\n",
       " ('George Armitage', [0, 1, 0]),\n",
       " ('David Mamet', [0, 1, 0]),\n",
       " ('Kevin Allen', [1, 0, 0]),\n",
       " ('Christopher Erskin', [1, 0, 0]),\n",
       " ('Jay Russell', [2, 0, 0]),\n",
       " ('Jan Pinkava', [1, 0, 0]),\n",
       " ('Sean Penn', [1, 0, 0]),\n",
       " ('Raman Hui', [1, 0, 0]),\n",
       " ('Steve Hickner', [1, 0, 0]),\n",
       " ('Stephen J. Anderson', [1, 0, 0]),\n",
       " ('Richard LaGravenese', [2, 0, 0]),\n",
       " ('Kevin Lima', [2, 0, 0]),\n",
       " ('Juan Carlos Fresnadillo', [1, 0, 0]),\n",
       " ('Steve Bendelack', [1, 0, 0]),\n",
       " ('Bruce A. Evans', [1, 0, 0]),\n",
       " ('Kirsten Sheridan', [1, 0, 0]),\n",
       " ('Joby Harold', [0, 1, 0]),\n",
       " ('Philip G. Atwell', [1, 0, 0]),\n",
       " ('Mennan Yapo', [1, 0, 0]),\n",
       " ('Michael Davis', [0, 1, 0]),\n",
       " ('Ash Brannon', [1, 0, 0]),\n",
       " ('Xavier Gens', [1, 0, 0]),\n",
       " ('Jason Eisener', [0, 1, 0]),\n",
       " ('David Schwimmer', [1, 0, 0]),\n",
       " ('Dave Meyers', [1, 0, 0]),\n",
       " ('Chris Sivertson', [0, 1, 0]),\n",
       " ('Michael Haneke', [0, 1, 0]),\n",
       " ('Sidney Lumet', [1, 0, 0]),\n",
       " ('Fred Savage', [1, 0, 0]),\n",
       " ('Russell Mulcahy', [1, 0, 0]),\n",
       " ('Michael Winterbottom', [1, 0, 0]),\n",
       " ('Stephen Hopkins', [1, 0, 0]),\n",
       " ('James Foley', [1, 0, 0]),\n",
       " ('Mark Helfrich', [1, 0, 0]),\n",
       " ('Jon Kasdan', [1, 0, 0]),\n",
       " ('Shari Springer Berman', [1, 0, 0]),\n",
       " ('Robert Pulcini', [1, 0, 0]),\n",
       " ('James Gray', [1, 0, 0]),\n",
       " ('Peter Hedges', [1, 0, 0]),\n",
       " ('Roland JoffÃ©', [0, 1, 0]),\n",
       " ('Amy Heckerling', [0, 1, 0]),\n",
       " ('Susanne Bier', [0, 1, 0]),\n",
       " ('Alastair Fothergill', [1, 0, 0]),\n",
       " ('Mark Linfield', [1, 0, 0]),\n",
       " ('Doug Lefler', [0, 1, 0]),\n",
       " ('Wong Kar-wai', [1, 0, 0]),\n",
       " ('Sylvain White', [1, 0, 0]),\n",
       " ('David Leland', [0, 1, 0]),\n",
       " ('Chris Rock', [1, 0, 0]),\n",
       " ('Peter Webber', [1, 0, 0]),\n",
       " ('Feng Xiaogang', [1, 0, 0]),\n",
       " ('Ben Garant', [1, 0, 0]),\n",
       " ('Ralph Zondag', [1, 0, 0]),\n",
       " ('Eric Leighton', [1, 0, 0]),\n",
       " ('David McNally', [1, 0, 0]),\n",
       " ('Ben Younger', [1, 0, 0]),\n",
       " ('Don Michael Paul', [0, 1, 0]),\n",
       " ('Mimi Leder', [1, 0, 0]),\n",
       " ('Paul Verhoeven', [1, 0, 0]),\n",
       " ('Mary Harron', [1, 0, 0]),\n",
       " ('Lars von Trier', [1, 0, 0]),\n",
       " ('Roger Spottiswoode', [1, 0, 0]),\n",
       " ('Antony Hoffman', [0, 1, 0]),\n",
       " ('Stephen T. Kay', [0, 1, 0]),\n",
       " ('Don Bluth', [0, 1, 0]),\n",
       " ('Gary Goldman', [0, 1, 0]),\n",
       " ('John Frankenheimer', [0, 1, 0]),\n",
       " ('Edward Norton', [1, 0, 0]),\n",
       " ('Jack Sholder', [0, 1, 0]),\n",
       " ('Christian Duguay', [0, 1, 0]),\n",
       " ('David Raynr', [0, 1, 0]),\n",
       " ('Douglas Aarniokoski', [0, 1, 0]),\n",
       " ('Davis Guggenheim', [0, 1, 0]),\n",
       " ('Bonnie Hunt', [1, 0, 0]),\n",
       " ('Uli Edel', [0, 1, 0]),\n",
       " ('Des McAnuff', [0, 1, 0]),\n",
       " ('Diane Keaton', [0, 1, 0]),\n",
       " ('Mary Lambert', [0, 1, 0])]"
      ]
     },
     "execution_count": 113,
     "metadata": {},
     "output_type": "execute_result"
    }
   ],
   "source": [
    "#Действуем по той же логике, но перебираем не выборку, а весь массив данных по индексу, для того что бы можно было разделить смешанные данные и обратиться к значению прибыли.\n",
    "director_dict = {}\n",
    "director_dict_margin = {}\n",
    "for x in range(len(data)):\n",
    "    for y in list(data[data.index == x].director)[0].split('|'):\n",
    "        director_dict.setdefault(y,[0,0,0])\n",
    "        if list(data[data.index == x].margin)[0] > 0:\n",
    "            director_dict[y][0] += 1\n",
    "        else:\n",
    "            director_dict[y][1] += 1\n",
    "\n",
    "for x in director_dict:\n",
    "    if director_dict[x][0] !=0 and director_dict[x][1] !=0:\n",
    "        director_dict[x][2] = director_dict[x][0] / (director_dict[x][1]+director_dict[x][0])\n",
    "\n",
    "answer_ls.append(sorted(director_dict.items(), key=lambda x: x[1], reverse = True)[0][0])\n",
    "answer_ls[-1] #выводим ответ\n",
    "sorted(director_dict.items(), key=lambda x: x[1][2], reverse = True)"
   ]
  },
  {
   "cell_type": "markdown",
   "metadata": {},
   "source": [
    "# Submission"
   ]
  },
  {
   "cell_type": "code",
   "execution_count": 6,
   "metadata": {},
   "outputs": [
    {
     "data": {
      "text/plain": [
       "0"
      ]
     },
     "execution_count": 6,
     "metadata": {},
     "output_type": "execute_result"
    }
   ],
   "source": [
    "len(answer_ls)"
   ]
  },
  {
   "cell_type": "code",
   "execution_count": 5,
   "metadata": {},
   "outputs": [
    {
     "data": {
      "text/html": [
       "<div>\n",
       "<style scoped>\n",
       "    .dataframe tbody tr th:only-of-type {\n",
       "        vertical-align: middle;\n",
       "    }\n",
       "\n",
       "    .dataframe tbody tr th {\n",
       "        vertical-align: top;\n",
       "    }\n",
       "\n",
       "    .dataframe thead th {\n",
       "        text-align: right;\n",
       "    }\n",
       "</style>\n",
       "<table border=\"1\" class=\"dataframe\">\n",
       "  <thead>\n",
       "    <tr style=\"text-align: right;\">\n",
       "      <th></th>\n",
       "      <th>Id</th>\n",
       "      <th>Answer</th>\n",
       "    </tr>\n",
       "  </thead>\n",
       "  <tbody>\n",
       "  </tbody>\n",
       "</table>\n",
       "</div>"
      ],
      "text/plain": [
       "Empty DataFrame\n",
       "Columns: [Id, Answer]\n",
       "Index: []"
      ]
     },
     "execution_count": 5,
     "metadata": {},
     "output_type": "execute_result"
    }
   ],
   "source": [
    "pd.DataFrame({'Id':range(1,len(answer_ls)+1), 'Answer':answer_ls}, columns=['Id', 'Answer'])"
   ]
  },
  {
   "cell_type": "code",
   "execution_count": 112,
   "metadata": {},
   "outputs": [
    {
     "data": {
      "text/plain": [
       "0.0"
      ]
     },
     "execution_count": 112,
     "metadata": {},
     "output_type": "execute_result"
    }
   ],
   "source": [
    "0/1"
   ]
  },
  {
   "cell_type": "code",
   "execution_count": 243,
   "metadata": {},
   "outputs": [
    {
     "name": "stdout",
     "output_type": "stream",
     "text": [
      "['tt0369610' 32.985763 150000000 1513528810 'Jurassic World'\n",
      " \"Chris Pratt|Bryce Dallas Howard|Irrfan Khan|Vincent D'Onofrio|Nick Robinson\"\n",
      " 'Colin Trevorrow' 'The park is open.'\n",
      " 'Twenty-two years after the events of Jurassic Park, Isla Nublar now features a fully functioning dinosaur theme park, Jurassic World, as originally envisioned by John Hammond.'\n",
      " 124 'Action|Adventure|Science Fiction|Thriller'\n",
      " 'Universal Studios|Amblin Entertainment|Legendary Pictures|Fuji Television Network|Dentsu'\n",
      " '6/9/2015' 5562 6.5 2015 1363528810]\n"
     ]
    }
   ],
   "source": [
    "for x in data.values:\n",
    "    print(x)\n",
    "    break"
   ]
  }
 ],
 "metadata": {
  "kernelspec": {
   "display_name": "Python 3",
   "language": "python",
   "name": "python3"
  },
  "language_info": {
   "codemirror_mode": {
    "name": "ipython",
    "version": 3
   },
   "file_extension": ".py",
   "mimetype": "text/x-python",
   "name": "python",
   "nbconvert_exporter": "python",
   "pygments_lexer": "ipython3",
   "version": "3.7.3"
  }
 },
 "nbformat": 4,
 "nbformat_minor": 4
}
